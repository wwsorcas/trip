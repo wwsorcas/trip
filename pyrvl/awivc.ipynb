{
 "cells": [
  {
   "cell_type": "markdown",
   "metadata": {},
   "source": [
    "# Overview\n",
    "\n",
    "Adaptive Waveform Inversion (AWI) is (in some ways) similar to the approach we worked out to the single trace transmission problem. It is based on an extension that's like one single trace transmission for every source-receiver pair: that is, every such pair gets its own wavelet, and the goal is to concentrate the wavelet near $t=0$ as much as possible. There are several notable differences. First, AWI presumes that a \"true\" wavelet, that generates the data, is known. So it's possible to focus on an \"adaptive\" kernel that produces the extended wavelet by convolution with the known \"true\" wavelet. This adaptive kernel really should be $\\delta(t)$ at the correct model, so multiplication by $t$ is really an annihilator, without having to make a \"small support\" assumption. We could have done this as well, but of course we got an estimate of the wavelet for our trouble, without having to assume a known \"true\" wavelet. Second, AWI deals with multidimensional models, and many traces, not just one. \n",
    "\n",
    "There is some understanding to be gained by applying the methodology we developed to this larger scale problem. First, I'll review AWI as it is presented in the literature, along with a computational approach that makes it practical and an example. Next comes recasting AWI into the penalty form that we used in studying the single trace transmission problem, and a re-interpretation of a normalization as a preconditioner. Applied to transmission problems, I believe that AWI is not immune from stagnation at useless estimates - that was the motivation for Surface Source Extension inversion, which is a generalization. Finally, I do not believe that any of these techniques are any better than FWI when applied to reflection data. So there are two interesting negative results to be had. However we will also be able to explain exatly why AWI works, when it does work.\n",
    "\n",
    "# Warner-Guasch formulation of AWI\n",
    " \n",
    "The version of AWI introduced by Michael Warner and Lluis Guasch (SEG 2014 and *Geophysics* 2016) assumes that seismic waves are governed by linear acoustics, and that each shot is associated to an isotropic point source with known location and wavelet. That is, the pressure and velocity fields $p({\\bf x},t;{\\bf x}_s)$, ${\\bf v}({\\bf x},t;{\\bf x}_s)$ for the shot location ${\\bf x}_s$ depend on the bulk modulus $\\kappa({\\bf x})$, buoyancy $\\beta({\\bf x})$ (reciprocal of the density $\\rho({\\bf x})$), and wavelet $w(t;{\\bf x}_s)$ through the acoustic system\n",
    " $$\n",
    " \\frac{\\partial p}{\\partial t} = - \\kappa \\nabla \\cdot {\\bf v} +\n",
    "w(t;{\\bf x}_s) \\delta({\\bf x}-{\\bf x}_s);\n",
    "\\frac{\\partial {\\bf v}}{\\partial t} = - \\beta \\nabla p; \n",
    "p, {\\bf v} = 0 \\mbox{ for }  t \\ll 0.\n",
    "$$\n",
    "For sake of brevity, define the model vector $m=(\\kappa,\\rho)$. The forward map or *modeling operator* is $F[m]w = \\{p({\\bf x}_r,t;{\\bf x}_s)\\}$, in which shot and receiver positions ${\\bf x}_s, {\\bf x}_r$ define the acquisition geometry.\n",
    "\n",
    "For now, assume that the data $d({\\bf x}_r,t;{\\bf x}_s)$ is the output of the modeling operator for \"true\" model $m_*$, that is, the \"true\" bulk modulus, buoyancy, and wavelet $\\kappa_*, \\beta_*, w_*$: that is, $d = F[m_*]w_*$.\n",
    "\n",
    "The extended modeling operator ${\\bar F}$ maps extended sources $\\bar{w}({\\bf x}_r,t;{\\bf x}_s)$ to the same sampling of the pressure field. That is, the extended source depends on the receiver location as well as the source location - so there is one acoustic system for each source *and* receiver position - a lot of wave equations! If all of the wavelets for each source are the same, that is, ${\\bar w}({\\bf x}_r,t;{\\bf x}_s) = w(t;{\\bf x}_s)$ is independent of receiver position, then ${\\bar F}[m]\\bar{w} = F[m]w$. That is, $F$ is a special case, or restriction, of ${\\bar F}$, so ${\\bar F}$ is an extension of $F$. This is the *source-recever* extension, in the terminology of Huang et al. 2015. \n",
    "\n",
    "AWI assumes that the extended sources are time convolutions of the (known) exact source with a kernel $\\bar{u}({\\bf x}_r,t;{\\bf x}_s)$: $\\bar{w} = \\bar{u} * w_*$ - the asterisk denotes convolution in time. Since linear acoustics is time-translation invariant, its solution commutes with time convolution, that is,\n",
    "$$\n",
    "\\bar{F}[m]\\bar{w} = \\bar{F}[m](\\bar{u} * w_*).\n",
    "$$\n",
    "With this set-up, the object of inversion can be formulated as:\n",
    "\n",
    "Given $d$, find $m=(\\kappa, \\beta)$ and $\\bar{w}$ so that $u({\\bf x}_r,t;{\\bf x}_s) = \\delta(t)$ (so $\\bar{w}=w_*$) and $\\bar{F}[m]\\bar{w} = F[m]w_* \\approx d$. \n",
    "\n",
    "Warner and Guasch assume (implicitly) that there is always a (near-)zero-residual solution of the extended inversion problem. That is, they assume that for any $m$, there is a $\\bar{w}$ for which $\\bar{F}[m]\\bar{w} \\approx d$. If $\\kappa \\approx \\kappa_*, \\beta \\approx \\beta_*$, then $\\bar{w}$ should be $\\approx w_*$, so the adaptive kernel $\\bar{u}$ should be approximately $\\delta(t)$ and independent of ${\\bf x}_s,{\\bf x}_r$. Such a $\\bar{u}$ is (approximately) in the null space of multiplication by $t$. Thus a first version of the AWI algorithm:\n",
    "\n",
    "1. Given $m$, solve the problem $\\bar{F}[m]\\bar{w} = d$ for $\\bar{w}$. \n",
    "2. Deconvolve $w_*$ from $\\bar{w}$ to obtain $\\bar{u}$ for which $\\bar{w}=u * w_*$. \n",
    "3. Compute the objective \n",
    "$$\n",
    "J_0[m] = \\int dx_s dx_r \\left(\\frac{\\int dt |t\\bar{u}|^2}{\\int dt |\\bar{u}|^2}\\right)\n",
    "$$\n",
    "and its gradient, then update $\\kappa,\\beta$ by some gradient descent method. (The role of the normalization per source and receiver by the $L^2$ norm of $\\bar{u}$ will be explained later.)\n",
    "\n",
    "There are two things wrong with this algorithm. First, it involves way too many wave equation solves. Second, it depends on the assumption that you can fit the data exactly (which may or may not be the case, see examples to follow). Warner and Guasch fix the first problem. The second is fundamental, as will be shown below.\n",
    "\n",
    "To solve the first problem, observe that the extended pressure field $\\bar{p}$ is the convolution of the Green's function $G[m]$ (solution of the acoustic system above with $w(t,{\\bf x}_s) = \\delta(t)$) with the source function $w(t,{\\bf x}_s)$. Since this source function is independent of the receiver position, only one wave equation needs to be solved for each source position, same as for non-extended modeling. Accordingly,\n",
    "$$\n",
    "\\bar{F}[m]\\bar{w} = G * \\bar{w}\n",
    "$$\n",
    "Convolution is far cheaper than wave equation solve: thus the cost of computing the forward map is reduced to one wave equation solve per source, and one convolution per source and receiver.\n",
    "\n",
    "On top of that, denote the convolution inverse of $G$ by $\\check{G}$, and the convolution inverse of $w_*$ by $\\check{w_*}$. Neither of these things may actually have a convolution inverse, strictly speaking. A solution of a regularized least-squares problem can play the same role. However these things are also cheaply approximated via discrete Fourier transform, which is what Warner and Guasch do. \n",
    "\n",
    "Then\n",
    "$$\n",
    "\\bar{w} = \\check{G} * d, \\bar{u} =  \\check{w_*}*\\bar{w} = \\check{w_*}*\\check{G}*d\n",
    "$$\n",
    "and the first two steps in the above AWI algorithm can be replaced by inexpensive convolutions. This is the second version of the AWI algorithm. It is inexpensive enough to be employed on 3D data at field scale, as shown in various papers by Warner and collaborators.\n",
    "\n",
    "# Example, part 1\n",
    "I will build examples to illustrate various aspects of AWI using the Vector Calculus Library (\"VCL\"), described in the notebook *vcl.ipynb*. Use of the tools in this library reveals the parallels between the mathematical description of AWI (and similar algorithms) and implementations in code. The notebook *vcl.ipynb* describes the core ideas (implemented in the modules *vcl.py* and *vclalg.py*) and illustrates them using NumPy-based examples (module *npvc.py*).\n",
    "\n",
    "To deal with seismic modeling and data, more complex data structures are required. These are developed in an informal way in the notebook *pyWAVE.ipynb*, which describes how two key types of data are stored in disk files and manipulated: trace data in the SEGY format, and regular grid data in the RSF format. This notebook employs vector calculus classes that wrap these disk formats and give them the attributes of vectors. \n",
    "\n",
    "The main observation underlying VCL is that vectors are data structures together with rules for manipulating them according to the axioms of linear algebra. Each of the two disk data strucures mentioned in the preceding paragraph gets a *vcl.Space* subclass, which defines the four attributes required of a vector space:\n",
    "1. answer the question: does a data object belongs to a vector in the space?\n",
    "2. produce a proper data object on request;\n",
    "3. compute a linear combination of vectors; and\n",
    "4. return the inner product of the vectors defined by two data objects.\n",
    "\n",
    "The last item is included because the algorithms that interest us most rely on inner product structure. The implementing code resides in modules *segyvc.py* and *rsfvc.py*.\n",
    "\n",
    "One of the initial puzzles one must solve to use tool sets like VCL is: how does one get started with an example? The answer: use software written at a lower level of abstraction to generate the core data on which all subsequent manipulations are based. Fortunately, such software already exists, in the modules *data.py* and *linalg.py*, described in *pyWAVE.ipynb*. These modules describe Python wrappers around commands from the Seismic Unix and Madagascar packages that directly manipulate the disk data structures of concern.\n",
    "\n",
    "The examples to follow begin with the construction of several disk data sets of SEGY and RSF type, using tools from the *data.py* module:"
   ]
  },
  {
   "cell_type": "code",
   "execution_count": null,
   "metadata": {},
   "outputs": [],
   "source": [
    "import linalg\n",
    "import data\n",
    "\n",
    "######################## create data ###########################\n",
    "# bulk modulus with lens\n",
    "data.model(bulkfile='m.rsf', bulk=4.0, nx=401, nz=201, dx=20, dz=20, lensfac=0.7)\n",
    "\n",
    "# bandpass filter source at sx=4200, sz=3000 (single trace)\n",
    "data.bpfilt(file='wstar.su',nt=251,dt=8.0,s=1.0,f1=1.0,f2=2.5,f3=7.5,f4=12,sx=4200,sz=3000)\n",
    "\n",
    "# create zero data file with same source position, rz=500, rx=[2000,6000]\n",
    "data.rechdr(file='g.su',nt=626,dt=8.0,ntr=201,rx=2000,rz=1000,sx=4200,sz=3000,drx=20)"
   ]
  },
  {
   "cell_type": "markdown",
   "metadata": {},
   "source": [
    "You can check that the SEGY files *wstar.su* and *g.su*, and the RSF file *m.rsf*, are present in the working directory after the preceeding cell is run, and have the right attributes as revealed by *suedit*, *sfin*, and *sfattr*.\n",
    "\n",
    "The disk data files are not in themselves usable as vectors; they must be combined with code that implements the four key attributes listed above. This necessary task is accomplished by creating specializations of *vcl.Space* based on the disk data:"
   ]
  },
  {
   "cell_type": "code",
   "execution_count": null,
   "metadata": {},
   "outputs": [],
   "source": [
    "import vcl\n",
    "import segyvc\n",
    "import rsfvc\n",
    "\n",
    "###################### data spaces ##########################\n",
    "bulksp = rsfvc.Space('m.rsf')\n",
    "datasp = segyvc.Space('g.su')"
   ]
  },
  {
   "cell_type": "markdown",
   "metadata": {},
   "source": [
    "To build a vector in one of these spaces, simply use the *vcl.Vector* constructor. To wrap the RSF data file *m.rsf* as a vector, use the name of the file as the optional second argument:"
   ]
  },
  {
   "cell_type": "code",
   "execution_count": null,
   "metadata": {},
   "outputs": [],
   "source": [
    "print('\\nVector in bulksp = space based on m.rsf:\\n')\n",
    "x = vcl.Vector(bulksp)\n",
    "x.myNameIs()\n",
    "\n",
    "print('\\nVector in bulksp that wraps m.rsf:\\n')\n",
    "m = vcl.Vector(bulksp,'m.rsf')\n",
    "m.myNameIs()\n",
    "\n",
    "print('\\nnote: the vector data is a string (the filename): ' + m.data)"
   ]
  },
  {
   "cell_type": "markdown",
   "metadata": {},
   "source": [
    "Every VCL type has a self-description attribute called *myNameIs*, that prints some (hopefully adequate) amount of information about the object on which it is called. Note the filename of the vector *x*: it is a \"temporary\" file, in the DATAPATH directory - by default, */var/tmp*, but controllable by the user. When the Python garbage collector is invoked, either at the end of the program or at the end of the block in which the variable *x* is assigned, this file will be deleted. The file *m.rsf*, on the other hand, is initialized externally to the vector *m* that wraps it, so it is flagged as \"permanent', and will not be deleted unless the user explicitly inserts code to do so.\n",
    "\n",
    "The main point of this structure, in either its informal or formal versions, is to set up seismic simulation and related operations. The informal version is the *fdop* function in *op.py*. It constructs a command-line string to call the RVL acoustic staggered grid simulator, *TRIP/iwave/asg/main/sim.x*. Most of the simulator arguments are built in to *fdop*. The formal VCL version is defined in the module *asg*. \n",
    "\n",
    "The arguments hidden in *fdop* are shown explicitly in the *vcl.Function* representation *asg.fsbop*, since this is supposed to more than just an illustration - these arguments may need to be changed, for example to introduce a pressure-release boundary condition. There are two arguments missing from the required list for *TRIP/iwave/asg/main/sim.x*, namely the bulk modulus (*bulkmod*, input) and the data traces (*data_p*, output). Those are actually the input and output arguments of the *vcl.Function* defined by *asg.fsbop*. The input bulk modulus is the function argument, as usual: if you call it *m*, then the output data traces are *F(m)*. \n",
    "\n",
    "There are two additional arguments, the first two, which are the domain and range spaces. All VCL functions know their domain and range, as all good functions should, and these are defined *externally to the function*, for reasons discussed in *vcl.ipynb*. The first two arguments to the the *asg.fsbop* constructor are (references to) the domain and range, represented as *vcl.Space* objects. When the function value *F(m)* is computed, the membership of *m* in the domain space is checked, then a vector in the range is generated and used to contain the output of the simulation, then passed back to the calling environment."
   ]
  },
  {
   "cell_type": "code",
   "execution_count": null,
   "metadata": {},
   "outputs": [],
   "source": [
    "import asg\n",
    "\n",
    "######################$ operator ############################\n",
    "F = asg.fsbop(dom=bulksp, rng=datasp, \\\n",
    "            buoyancy='bym.rsf', source_p='wstar.su', \\\n",
    "            order=2, sampord=1, nsnaps=20,\\\n",
    "            cfl=0.5, cmin=1.0, cmax=3.0,dmin=0.8, dmax=3.0,\\\n",
    "            nl1=250, nr1=250, nl2=250, nr2=250, pmlampl=1.0)\n",
    "########################## modeling ############################\n",
    "\n",
    "# plot data stored in m\n",
    "linalg.simplot(m.data, addcb=True)\n",
    "\n",
    "# evaluate F[m]\n",
    "Fm = F(m)\n",
    "\n",
    "# plot data stored in Fm\n",
    "linalg.simplot(Fm.data)"
   ]
  },
  {
   "cell_type": "markdown",
   "metadata": {},
   "source": [
    "Note that *linalg.simplot* wants a filename argument. The filename of the output *Fm* is the data object of this vector, accessed as its *data* attribute. Since the vector *Fm* is allocated by the function evaluation *F(...)*, its data object is a temporary filename, as you see.\n",
    "\n",
    "The name \"fsbop\" is an abbreviation for \"fixed source and buoyancy operator\". Note that the buoyancy *bym.rsf* (constructed by *data.model*) and the source wavelet *wstar.su* are passed to the constructor. They are passive parameters, not arguments of the function *F(...)* in this variant of the seismic simulator. Only the bulk modulus is regarded as variable.\n",
    "\n",
    "To see that $F[m]$ is also the result of extended modeling, create a Green's function for the source and receiver positions - this requires a zero-phase delta function wavelet at the correct location, stored in discretized form in the file *delta.su*. Once again, this is best done with one of the *data.py* utilities, distinct from VCL. Since *delta.su* will be passed as the *source_p* argument, the function constructor generates a different function from *F*, as above; call it *Fdelta*. Note that *Fdelta* has the same domain and range spaces as *F*. Applying it generates the Green's function for the wave equation, within the finite difference approximation and with the constraints on time and space inherent in the domain and range spaces. \n",
    "\n",
    "To plot the Green's function, pass the data of the output *g* (a SEGY file name!) to *linalg.simplot*:"
   ]
  },
  {
   "cell_type": "code",
   "execution_count": null,
   "metadata": {},
   "outputs": [],
   "source": [
    "# create delta function at sx=4200, sz=3000 \n",
    "data.delta(file='delta.su', nt=201, dt=8.0, sx=4200, sz=3000)\n",
    "\n",
    "# apply fd op with delta wavelet to obtain green's fucntion\n",
    "Fdelta = asg.fsbop(bulksp, datasp, buoyancy='bym.rsf',\\\n",
    "                source_p='delta.su', order=2, sampord=1, nsnaps=20,\\\n",
    "                cfl=0.5, cmin=1.0, cmax=3.0,dmin=0.8, dmax=3.0,\\\n",
    "                nl1=250, nr1=250, nl2=250, nr2=250, pmlampl=1.0)\n",
    "\n",
    "g = Fdelta(m)\n",
    "\n",
    "# take a look\n",
    "linalg.simplot(g.data)"
   ]
  },
  {
   "cell_type": "markdown",
   "metadata": {},
   "source": [
    "As shown in *pyWAVE.ipynb*, the convolutino of the Green's function with the soure wavelet yields the same result as the finite difference modeling operator with that wavelet. The VCL representation of convolution is the *vcl.LinearOperator* *segyvc.ConvolutionOperator*. As for other VCL operators, the domain and range spaces must be constructed externally. The range space is the same as that for the finite difference operators. The domain space is one that contains the wavelet (SEGY file) as vector data. The easiest way to cook that up is to use the wavelet SEGY file to initialize both the domain space of the *segyvc.ConvolutionOperator* and the vector in it:"
   ]
  },
  {
   "cell_type": "code",
   "execution_count": null,
   "metadata": {},
   "outputs": [],
   "source": [
    "wsp = segyvc.Space('wstar.su')\n",
    "Fconv = segyvc.ConvolutionOperator(wsp, datasp, g.data)\n",
    "\n",
    "wstar = vcl.Vector(wsp,'wstar.su')\n",
    "\n",
    "Fmconv = Fconv*wstar\n",
    "\n",
    "linalg.simplot(Fmconv.data)"
   ]
  },
  {
   "cell_type": "markdown",
   "metadata": {},
   "source": [
    "The resemblance with the finite difference output is obvious. In fact the two are within a reasonable multiple of macheps.\n",
    "\n",
    "Next we establish that we can view the data as the output of an extended operator as well. Remember the AWI extension is provision of a separate source for every output data trace. So start by creating an extended source, replicating the bandpass filter for each trace (receiver position), with the same source/receiver locations as the data, replicating the single-trace bandpass filter in every trace. I have created a Python interface for the required SU commands to do this:"
   ]
  },
  {
   "cell_type": "code",
   "execution_count": null,
   "metadata": {},
   "outputs": [],
   "source": [
    "# extended source headers\n",
    "data.bpfiltgather(file='barw.su',nt=251,dt=8.0,s=1.0,\\\n",
    "                  f1=1.0,f2=2.5,f3=7.5,f4=12,ntr=201,\n",
    "                  sxstart=2000,szstart=6000,dsx=20,dsz=0)\n",
    "\n",
    "# plot\n",
    "linalg.simplot('barw.su')"
   ]
  },
  {
   "cell_type": "markdown",
   "metadata": {},
   "source": [
    "Recall that the extended operators are denoted by an overbar. I will keep this convention by using \"bar\" as a prefix for the computational operator names. So the computational version of $\\bar{F}[m]$ is *barF(m)*. To compute it, simply use *the same* Green's function as used in convolutional modeling, but with an extended source, that is, a gather of source traces, one per receiver position. *barw.su* is such a gather. \n",
    "\n",
    "The linear operator class *segyvc.ConvolutionOperator* calls *TRIP/iwave/trace/main/SEGYConv.x*, which is set up to recognize automatically that there is one input trace per receiver (that is, one input trace per trace in the Green's function) and perform the correct convolution, writing the result to the output trace. (It also works when there is only one input trace, as in the example above).\n",
    "\n",
    "In this case, *barw.su* is the extended source that produces the same output as the single-trace source *wstar.su*, illustrating that $\\bar{F}[m]$ is an extension of $F[m]$. Use *barw.su* to define a domain space (*segvc.Space*), and wrap it in a vector:"
   ]
  },
  {
   "cell_type": "code",
   "execution_count": null,
   "metadata": {},
   "outputs": [],
   "source": [
    "# domain space\n",
    "barwsp = segyvc.Space('barw.su')\n",
    "\n",
    "# input vector\n",
    "barw = vcl.Vector(barwsp,'barw.su')\n",
    "\n",
    "# convolution operator, uses previously computed Green's function\n",
    "barFmop = segyvc.ConvolutionOperator(barwsp,datasp,g.data)\n",
    "\n",
    "# apply convolution operator\n",
    "barFm = barFmop(barw)\n",
    "\n",
    "# plot the result - same as plot of Fmwstar\n",
    "linalg.simplot(barFm.data)\n",
    "\n",
    "# compute the difference, norm, relative error\n",
    "diffFm = vcl.Vector(Fm.space)\n",
    "diffFm.copy(Fm)\n",
    "diffFm.linComb(-1.0,barFm)\n",
    "dnorm = Fm.norm()\n",
    "diffnorm = diffFm.norm()\n",
    "\n",
    "print('norm of barFm.su - Fm.su = %10.4e' % (diffnorm))\n",
    "print('relative error = %10.4e' % (diffnorm/dnorm))\n"
   ]
  },
  {
   "cell_type": "markdown",
   "metadata": {},
   "source": [
    "# Least squares formulation\n",
    "Recall the convolutional representation of $\\bar{F}$:\n",
    "$$\n",
    "\\bar{F}[m]\\bar{w} = G[m] * \\bar{w}\n",
    "$$\n",
    "also the relation between the adaptive kernel $\\bar{u}$, (known) source wavelet $w_*$, and extended source $\\bar{w}$: \n",
    "$$\n",
    "\\bar{w} = \\bar{u} * w_*\n",
    "$$\n",
    "Putting these together and using the commutativity of convolution,\n",
    "$$\n",
    "\\bar{F}[m]\\bar{w} = (G[m] * w_*) * \\bar{u} = (F[m]w_*)*\\bar{u} \n",
    "$$\n",
    "In other words, the predicted *non-extended* data $F[m]w_*$ is the convolution kernel mapping the adaptive kernel $\\bar{u}$ to predicted *extended* data $\\bar{F}[m]\\bar{w}$. \n",
    "\n",
    "This observation suggests reformulating the inverse problem directly in terms of the adaptive kernel $\\bar{u}$: that is, find $\\bar{u}$ so that\n",
    "$$\n",
    "\\bar{S}[m,w_*]\\bar{u} \\equiv (F[m]w_*)*\\bar{u} = \\bar{F}[m](\\bar{u}*w_*)\n",
    "$$\n",
    "approximates the data. Here $\\bar{S}[m,w_*]$ is the operator of convolution with the *non-extended* predicted data $F[m]w_*$.\n",
    "\n",
    "The straightforward least squares formulation would be: given $m, w_*, d$, find $\\bar{u}$ to minimize (approximately)\n",
    "$$\n",
    "J_0[m,\\bar{u};w_*,d] = \\|\\bar{S}[m,w_*]\\bar{u}-d\\|^2\n",
    "$$"
   ]
  },
  {
   "cell_type": "markdown",
   "metadata": {},
   "source": [
    "# Example, part 2\n",
    "\n",
    "The domain space of $\\bar{S}[m,w_*]$ consists of as many traces as the data or the Green's function, but presumably with a time range containing $t=0$. Since the ideal input is $\\bar{u} = \\delta(t)$, construct a gather consisting of 201 traces of length 2 s with the firast sample at $t=-1$ s to serve as the data of a *segyvc.SEGYSpace*"
   ]
  },
  {
   "cell_type": "code",
   "execution_count": null,
   "metadata": {},
   "outputs": [],
   "source": [
    "data.rechdr(file='baru.su',nt=251,dt=8.0,\\\n",
    "            ntr=201,rx=2000,rz=1000,sx=4200,sz=3000,drx=20,delrt=-1000)"
   ]
  },
  {
   "cell_type": "markdown",
   "metadata": {},
   "source": [
    "Then build an input *segyvc.Space* based on this file, and a *vcl.Vector* in it. For economy of storage, wrap 'baru.su' in this Vector:"
   ]
  },
  {
   "cell_type": "code",
   "execution_count": null,
   "metadata": {},
   "outputs": [],
   "source": [
    "usp=segyvc.Space('baru.su')\n",
    "baru=vcl.Vector(usp,'baru.su')"
   ]
  },
  {
   "cell_type": "markdown",
   "metadata": {},
   "source": [
    "The next step is to construct an Operator class (*segyvc.ConvolutionOperator*) wrapper around convolution, to simulate $\\bar{S}[m,w_*]$. Note that a *vcl.Operator* \"knows\" its domain and range on construction, before its action on a vector is required. "
   ]
  },
  {
   "cell_type": "code",
   "execution_count": null,
   "metadata": {},
   "outputs": [],
   "source": [
    "barSm = segyvc.ConvolutionOperator(dom=usp, rng=datasp, \\\n",
    "                                    green=Fm.data)"
   ]
  },
  {
   "cell_type": "markdown",
   "metadata": {},
   "source": [
    "Note that the last argument is the file name of the non-extended predicted data *Fm.data*, which is the data object managed by *Fm*. This is typical of operator construction: some inputs are VCL class objects (like the domain and range spaces), while others will be other types of objects, whatever is necessary to carry out the internal processes of the operator.\n",
    "\n",
    "The module *vcalg.py* defines a VCL version of CG for normal equations."
   ]
  },
  {
   "cell_type": "code",
   "execution_count": null,
   "metadata": {
    "scrolled": false
   },
   "outputs": [],
   "source": [
    "import segyvc\n",
    "import vcalg\n",
    "import linalg\n",
    "\n",
    "# max allowed iterations\n",
    "kmax = 50\n",
    "# residual norm reduction for termination\n",
    "eps  = 0.01\n",
    "# normal residual norm reduction for termination\n",
    "rho  = 0.001\n",
    "\n",
    "try:\n",
    "    vcalg.conjgrad(x=baru, b=Fm, A=barSm, \\\n",
    "                   kmax=kmax, eps=eps, rho=rho, verbose=2)\n",
    "except Exception as ex:\n",
    "    print(ex)\n",
    "else:    \n",
    "    linalg.simplot(baru.data)"
   ]
  },
  {
   "cell_type": "markdown",
   "metadata": {},
   "source": [
    "The waveform is perfectly symmetric, independent of receiver location (trace index), and more focused at $t=0$ than the extended source 'barw.su', plotted above. Convolving 'baru.su' with 'wstar.su' would produce a close approximation of 'barw.su'.\n",
    "\n",
    "By sheer luck, the relative error has just dropped below 1% at 50 iterations. If you plot the residual offline on the grey scale of the data (beyond the current capability of *linalg.simplot*), you can't really see it in most renderings. This is excellent data fit.\n",
    "\n",
    "The next hypothesis to test is whether the extended model can fit the data well for any model $m$, correct or not. For example, we could use a constant bulk modulus $m0$ with $\\kappa=4.0$, rather than the field with the lens that created the data 'Fmwstar.su'. A VCL implementation starts with FD computation of the non-extended simulation with inputs $m0$, represented by the RSF file 'm0.rsf', and the point source 'wstar.su'. Note that *m0.rsf* defines the same space as *m.rsf*, so there is no need to build a new domain space for the finite difference operator.\n",
    "\n",
    "Note that since we have already defined the data space *dsp*, it's just as easy to create the non-extended predicted data *Fm0wstar* as a VCL Vector, accessing its data object (SEGY file name) as needed to pass to non-VCL functions. "
   ]
  },
  {
   "cell_type": "code",
   "execution_count": null,
   "metadata": {},
   "outputs": [],
   "source": [
    "# homog bulk modulus = 4.0 GPa\n",
    "data.model(bulkfile='m0.rsf', bulk=4.0, nx=401, nz=201, \\\n",
    "           dx=20, dz=20, lensfac=1.0)\n",
    "\n",
    "# define a vector in bulksp with this data\n",
    "m0 = vcl.Vector(bulksp,'m0.rsf')\n",
    "\n",
    "# compute non-extended predicted data from bulkmod m0\n",
    "Fm0 = F(m0)\n",
    "\n",
    "linalg.simplot(Fm0.data)"
   ]
  },
  {
   "cell_type": "markdown",
   "metadata": {},
   "source": [
    "Note from the plot title that the file wrapped in the vector *Fm0wstar* is a temporary file, with a system-generated name. On exit from the Python process in which this notebook code is running, all such temporary files should be unlinked (deleted from the file system). I have not used the link method to replace this temporary file with a specified name, since there is no reason to make the data persistent beyond this process.\n",
    "\n",
    "Now estimate an adaptive kernel *baru* that fits the data *Fmwstar* but with the *wrong* bulk modulus (hence wrong velocity or slowness). The modeling operator *Sm0* emulates $\\bar{S}[m_0,w_*]$. All of the auxiliary parameters of the CG process are the same, and I have simply overwritten the adaptive kernel vector *baru* with the new data."
   ]
  },
  {
   "cell_type": "code",
   "execution_count": null,
   "metadata": {},
   "outputs": [],
   "source": [
    "import segyvc\n",
    "import vcalg\n",
    "import linalg\n",
    "\n",
    "Sm0 = segyvc.ConvolutionOperator(dom=usp, rng=datasp, \\\n",
    "                                green=Fm0.data)\n",
    "\n",
    "vcalg.conjgrad(x=baru, b=Fm, A=Sm0, kmax=kmax, \\\n",
    "               eps=eps, rho=rho, verbose=2)\n",
    "\n",
    "linalg.simplot(baru.data)"
   ]
  },
  {
   "cell_type": "markdown",
   "metadata": {},
   "source": [
    "Two major things to notice: first, even though the bulk modulus (hence slowness, velocity) is incorrect, the data is fit. The relative error (enorm/enorm0 in the program output) is less than 0.01, at 25 iterations. This illustrates the assumption underlying AWI (and all other working extension methods: data can always be fit, even with the wrong model. The second thing to note is that the energy in the adaptive kernel baru.su computed with the homogeneous bulk modulus is delayed: it appears to arrive approximately 0.1 s late in the middle traces (80-120). This indicates that the model responsible for generating the data is slower in that region, which is correct (it has a slow lens in the middle). Measuring this delay by the norm-squared of the multiply-by-t operator applied to the adaptive kernel is the basic idea of AWI, and is very close in spirit to our treatment of the single-trace problem.\n",
    "\n",
    "# Relation with penalty functions\n",
    "\n",
    "Recall the AWI objective function: with the adaptive kernel $\\bar{u}$ chosen so that $\\bar{S}[m,w_*]\\bar{u}=d$,\n",
    "$$\n",
    "J_0[m,w_*] = \\sum_{x_s,x_r} \\left(\\frac{\\int dt |t\\bar{u}|^2}{\\int dt |\\bar{u}|^2}\\right)\n",
    "$$\n",
    "This function is the $\\alpha \\rightarrow 0$ limit of a reduced penalty function:\n",
    "$$J_0[m,w_*] = \\lim_{\\alpha \\rightarrow 0} \\frac{1}{\\alpha^2}\\tilde{J}_{\\alpha}[m,w_*]\n",
    "$$ \n",
    "where \n",
    "$$\n",
    "\\tilde{J}_{\\alpha}[m,w_*] = \\min_u J_{\\alpha}[m,w_*,u]\n",
    "$$\n",
    "$$\n",
    "= J_{\\alpha}[m,w_*,\\tilde{u}_{\\alpha}[m,w_*]]\n",
    "$$\n",
    "with\n",
    "$$\n",
    "J_{\\alpha}[m,w_*,u] = \\frac{1}{2}(\\|{\\bar S}[m,w_*]u-d\\|^2 + \\alpha^2 \\|Tu\\|_m^2)\n",
    "$$\n",
    "Here $T$ is the multiply-by-$t$ operator, and $\\|\\cdot\\|_m$ denotes a weighted norm:\n",
    "$$\n",
    "\\|u\\|_m^2 = \\sum_{x_s,x_r} \\left(\\frac{\\int dt |u|^2}{\\int dt |\\tilde{u}_0[m,w_*]|^2}\\right)\n",
    "$$\n",
    "$$ \n",
    "= \\|W[m,w_*]u\\|^2\n",
    "$$ \n",
    "The weight operator $W[m,w_*]$ multiplies the trace at $x_s,x_r$ by the reciprocal norm of the corresponding trace of $\\tilde{u}_0[m,w_*]$, the solution of \n",
    "$$\n",
    "\\tilde{u}_0[m,w_*] = \\mbox{argmin}_u \\|\\bar{S}[m,w_*]u-d\\|^2\n",
    "$$\n",
    "Assuming that the minimum value on the RHS is actually zero, evidently the adaptive kernel $\\bar{u}$ in the definition at the top of this paragraph is the same as $\\tilde{u}_0[m,w_*]$. In general, some regularization is probably required for a proper definition of $\\tilde{u}_0[m,w_*]$. It is the solution of a deconvolution problem. In the deconvolution context, (Tihonov) regularization is known as \"pre-whitening\". Warner and Guasch mention pre-whitening as part of their computations, though they do not give details.\n",
    "\n",
    "# Why AWI works, and why the weighted norm is important\n",
    "\n",
    "To see why AWI works, in at least some settings, assume that the spatial dimension is three. The 2D case has a similar conclusion but with somewhat more technical difficulty.\n",
    "\n",
    "For spatial position ${\\bf x}$ \"not too far\" from a source location ${\\bf x}_s$, the Green's function has a useful decomposition:\n",
    "$$\n",
    "G[m]({\\bf x},{\\bf x}_s,t) = a[m]({\\bf x},{\\bf x}_s)\\delta(t-\\tau[m[({\\bf x},{\\bf x}_s)) + R[m]({\\bf x},{\\bf x}_s,t).\n",
    "$$\n",
    "This is the *geometric optics* (or *progressing wave*) decomposition. \n",
    "Assuming that the coefficients in the wave equation are smooth, the *amplitude* $a[m]$ and *travel time* $\\tau[m]$are smooth, positive and well-defined in a punctured neighborhood $0<|{\\bf x}- {\\bf x}_s| < r$ of the source point ${\\bf x}_s$. The *remainder* $R[m]$ is smooth except for a jump discontinuity at $t=\\tau[m]({\\bf x},{\\bf x}_s)$, hence less singular than the leading $\\delta$ term. It is \"causal\", that is, $=0$ for $t < \\tau$. In this punctured ball of radius $r>0$, the decomposition of $G[m]$ stated above holds, but generally fails at distance $>r$ from the source. The radius $r$ depends on the slowness field: it is $=\\infty$ for constant slowness, and is smaller for more oscillatory slowness. For a complete treatment of geometric optics as stated here, see Friedlander, *The wave equation on curved space-time*, Cambridge University Press, 1975. It is also described in Courant and Hilbert, *Methods of Mathematical Physics*, v. 2, Ch. VI, section 4, and in many other texts.\n",
    "\n",
    "I will start by investigating the behaviour of the Warner-Guasch objective using the geometric optics tool, then turn to the penalty function. The analysis that follows is formal, in that I do not explicitly bound the error contributions from the remainder term $R[m]$ in any of the following expressions, acknowledging them by using the symbol $\\approx$ rather than equality. Also, I tacitly assume that the geometric optics decomposition holds at all of the spatial locations of interest, that is,\n",
    "$$\n",
    "G[m]({\\bf x},{\\bf x}_s,t) \\approx a[m]({\\bf x},{\\bf x}_s)\\delta(t-\\tau[m[({\\bf x},{\\bf x}_s)).\n",
    "$$\n",
    "I will eventually revisit this assumption, as one of the main points to be made is what happens to AWI when it fails.\n",
    "\n",
    "Start by examining a particular source-receiver pair ${\\bf x}_s,{\\bf x}_r$, suppress from the notation. \n",
    "$$\n",
    "F[m]w_*(t) \\approx a[m]w_*(t-\\tau[m])\n",
    "$$\n",
    "so \n",
    "$$\n",
    "S[m,w_*]u(t) \\approx a[m](w_**u)(t-\\tau[m])\n",
    "$$\n",
    "Assume that the data is noise-free:\n",
    "$$\n",
    "d(t)=F[m_*]w_*(t) \\approx a[m_*]w_*(t-\\tau[m_*])\n",
    "$$\n",
    "The (approximate) solution of $S[m,w_*]u=d$ is obvious by inspection: $u(t) = a[m_*]/a[m]\\delta(t-\\tau[m_*]+\\tau[m])$. There is immediately a big problem: this $u$ is not square-integrable, and the AWI objective defined above is undefined. To fix this, it's necessary to treat $u$ as the solution of a regularized least squares problem:\n",
    "$$\n",
    "u_{\\epsilon} = \\mbox{argmin}_u (\\|S[m,w_*]u-d\\|^2 + \\epsilon^2\\|u\\|^2)\n",
    "$$\n",
    "$$\n",
    "\\approx \\mbox{argmin}_u (\\|a[m](w_**u)(\\cdot-\\tau[m])-a[m_*]w_*(\\cdot-\\tau[m_*])\\|^2 + \\epsilon^2\\|u\\|^2)\n",
    "$$\n",
    "Use the temporary abbreviations $a_*=a[m_*], a=a[m], \\tau_*=\\tau[m_*], \\tau=\\tau[m]$, and write in terms of the Fourier transforms $\\hat{u}_{\\epsilon},\\hat{w_*}$ of $u_{\\epsilon}$ and $w_*$:\n",
    "$$\n",
    "\\hat{u}_{\\epsilon} \\approx \\mbox{argmin}_{\\hat{u}}\\left(\\int d\\omega |a\\hat{w_*}\\hat{u}e^{i\\omega \\tau}-a_*\\hat{w_*}e^{i\\omega\\tau_*}|^2 + \\epsilon^2 |\\hat{u}|^2\\right)\n",
    "$$\n",
    "The normal equation is\n",
    "$$\n",
    "(a^2 |\\hat{w}_*|^2 +\\epsilon^2)\\hat{u} = a a_*|\\hat{w}_*|^2e^{i\\omega(\\tau_*-\\tau)}\n",
    "$$\n",
    "the solution of which is\n",
    "$$\n",
    "\\hat{u}_{\\epsilon} \\approx \\frac{a^*}{a}\\hat{g}_{\\frac{a^*}{a}\\epsilon} e^{i\\omega(\\tau_*-\\tau)}\n",
    "$$\n",
    "where\n",
    "$$ \n",
    "\\hat{g}_{\\epsilon} = \\frac{a_*^2|\\hat{w}_*|^2}{a_*^2|\\hat{w}_*|^2 + \\epsilon^2}.\n",
    "$$\n",
    "Since $w_* \\in C_0^{\\infty}$ (did I say that?), $\\hat{w_*}(\\omega) \\rightarrow 0$ faster than any negative power of $\\omega$ as $|\\omega| \\rightarrow \\infty$ and is analytic, whence $\\hat{g}_{\\epsilon}: \\epsilon > 0$ tends to $1$ almost everywhere as $\\epsilon \\rightarrow 0$. Hence the inverse Fourier transform $g_{\\epsilon}$ tends to $\\delta$ in the sense of distributions, and \n",
    "$$\n",
    "u_{\\epsilon}(t) \\approx \\frac{a^*}{a}g_{\\frac{a^*}{a}\\epsilon}(t-(\\tau_*-\\tau))\n",
    "$$\n",
    "to a multiple of a shifted $\\delta$, in fact exactly the distribution solution of $\\bar{S}[m,w_*]u=d$. However for $\\epsilon>0$, $u_{\\epsilon}$ is square integrable.\n",
    "\n",
    "Analysis of the unweighted AWI objective (numerator of the formula above) with $u$ replaced by $u_{\\epsilon}$ goes back to Huang and Symes SEG 2015:\n",
    "$$\n",
    "\\int dt |tu_{\\epsilon}|^2 \\approx \\frac{a_*^2}{a^2} \\int dt\\, t^2|g_{\\frac{a^*}{a}\\epsilon}(t-(\\tau_*-\\tau))|^2\n",
    "$$\n",
    "$$\n",
    "=\\frac{a_*^2}{a^2} \\int dt\\, (t+(\\tau_*-\\tau))^2|g_{\\frac{a^*}{a}\\epsilon}(t)|^2\n",
    "$$\n",
    "The linear (in t) term vanishes, since $g$ is necessarily even in time (since it Fourier transform is real). So this is\n",
    "$$\n",
    "=\\frac{a_*^2}{a^2} \\int dt\\, t^2|g_{\\frac{a^*}{a}\\epsilon}(t)|^2\n",
    "+(\\tau_*-\\tau)^2\\frac{a_*^2}{a^2}\\|g_{\\frac{a^*}{a}\\epsilon}\\|^2\n",
    "$$\n",
    "The first term tends to zero as $\\epsilon \\rightarrow 0$, since $g_{\\epsilon}$ is a delta-family, so you can make it negligible with proper choice of $\\epsilon$. The second term suggests that this function is related to the travel-time error $\\tau_*-\\tau$. \n",
    "\n",
    "This is the key observation, since the travel-time error drives travel-time tomography and forcing it to zero forces $m$ to approximate $m_*$, at least for well-behaved smooth models. In other words, AWI may be travel-time tomography in disguise! This would explaing why AWI works, since travel-time tomography (fitting of travel times, rather than wave data) works.\n",
    "\n",
    "However the amplitude terms - the presence of $a_*/a$ both as a multiplier and in the scaling of $\\epsilon$ - may create stationary points for models differing in their travel time predictions. So stationary points of the unweighted AWI objective may not yield slowness models that match travel-times with the data, even in the noise-free case (even though the examples reported in Huang and Symes SEG 2015, and other works cited there, suggest that sometimes this is the case). \n",
    "\n",
    "The scaling by trace norms of $u_{\\epsilon}$ (the weight operator, in other words) eliminates the possibility of non-travel-time stationary points. Since the objective function is built up trace-by-trace, use the same approximation for the norm of $u_{\\epsilon}$: \n",
    "$$\n",
    "\\|u_{\\epsilon}\\| \\approx \\frac{a^*}{a}\\|g_{\\frac{a^*}{a}\\epsilon}\\|\n",
    "$$\n",
    "So\n",
    "$$\n",
    "J_0[m,w_*] \\approx \\sum_{{\\bf x}_s,{\\bf x}_r} (\\tau[m_*]({\\bf x}_s,{\\bf x}_r)-\\tau[m]({\\bf x}_s,{\\bf x}_r))^2\n",
    "$$\n",
    "ignoring the $\\|tg_{...}\\|^2$ term as being negligible for small enough $\\epsilon$. \n",
    "\n",
    "In other words, the AWI objective is *exactly* an approximation to the travel-time tomography objective. And that's why it works - when geometric optics in the form given here is an accurate approximation to the Green's function.\n",
    "\n",
    "It remains to see what geometric optics has to say about the penalty objective $\\tilde{J}_{\\alpha}[m,w_*]$, how geometric optics might fail, and what happens to AWI when it does."
   ]
  },
  {
   "cell_type": "markdown",
   "metadata": {},
   "source": [
    "# Example, part 3\n",
    "\n",
    "Before exploring the VPM version of AWI, I will first sketch an implementation of FWI, since it is simpler but makes use of many of the same components.\n",
    "\n",
    "The naive, unadorned FWI objective is\n",
    "$$\n",
    "J_{\\rm FWI}[m; d] = 0.5 \\|F[m]w_*-d\\|^2\n",
    "$$\n",
    "Note that I haven't even included the wavelet $w_*$ in the objective notation. It is assumed known and fixed. In the language of our IP paper, this is the *restricted* FWI objective. The reduced objective, which also depends on the wavelet and is useful for estimating it, is more interesting, but it requires VPM, which is more complicated - I will discuss it later, as preparation for dealing with AWI.\n",
    "\n",
    "As before, $m \\mapsto F[m]w_*$ is represented by *asg.fsbop*. For a first example, let's suppose that the wavelet $w_*$ is *wstar.su*, as used in the previous examples, and the data are the noise-free traces $d=F[m]w_*$ with $m$ given by *m.rsf*, also as defined above. Then $d$ is the vector *Fm* used in the preceding examples - I rename it *d*. \n",
    "\n",
    "The VCL least squares class (*vcl.LeastSquares*) gives an easy construction of the FWI objective. I repeat some code from earlier, so that this cell and subsequent cells are independent of earlier cells."
   ]
  },
  {
   "cell_type": "code",
   "execution_count": 36,
   "metadata": {},
   "outputs": [
    {
     "name": "stdout",
     "output_type": "stream",
     "text": [
      "\n",
      "FD operator:\n",
      "2D acoustic simulator: iwave/asg/main/sim.x\n",
      "parameters:\n",
      " order=2 sampord=1 nsnaps=20 cfl=0.5 cmin=1.0 cmax=3.0 dmin=0.8 dmax=3.0 nl1=250 nr1=250 nl2=250 nr2=250 pmlampl=1.0\n",
      "parameter bounds tested\n",
      "\n",
      "Simulated data (dstar)\n",
      "Vector in space:\n",
      "SEGYSpace based on SEGY file data.su\n",
      "Data object:\n",
      "file with name = /var/tmp/tmp4oy0p31f.su\n"
     ]
    }
   ],
   "source": [
    "import data\n",
    "import vcl\n",
    "import rsfvc\n",
    "import segyvc\n",
    "import asg\n",
    "\n",
    "# bulk modulus with lens\n",
    "data.model(bulkfile='mstar.rsf', bulk=4.0, nx=401, nz=201, dx=20, dz=20,\n",
    "           lensfac=0.7)\n",
    "\n",
    "# bandpass filter source at sx=4200, sz=3000 (single trace)\n",
    "data.bpfilt(file='wstar.su',nt=251,dt=8.0,s=1.0,f1=1.0,f2=2.5,f3=7.5,f4=12,sx=4200,sz=3000)\n",
    "    \n",
    "# create zero data file with same source position, rz=500, rx=[2000,6000]\n",
    "data.rechdr(file='data.su',nt=626,dt=8.0,ntr=201,rx=2000,rz=1000,sx=4200,sz=3000,drx=20)\n",
    "    \n",
    "# domain and range spaces\n",
    "bulksp = rsfvc.Space('mstar.rsf')\n",
    "datasp = segyvc.Space('data.su')\n",
    "  \n",
    "# wrap bulk modulus in Vector\n",
    "mstar = vcl.Vector(bulksp,'mstar.rsf')\n",
    "    \n",
    "# instantial modeling operator\n",
    "F = asg.fsbop(dom=bulksp, rng=datasp, \\\n",
    "            buoyancy='bymstar.rsf', source_p='wstar.su', \\\n",
    "            order=2, sampord=1, nsnaps=20,\\\n",
    "            cfl=0.5, cmin=1.0, cmax=3.0,dmin=0.8, dmax=3.0,\\\n",
    "            nl1=250, nr1=250, nl2=250, nr2=250, pmlampl=1.0)\n",
    "print('\\nFD operator:')\n",
    "F.myNameIs()\n",
    "    \n",
    "# evaluate F[mstar], create noise-free data\n",
    "print('\\nSimulated data (dstar)')\n",
    "dstar = F(mstar)\n",
    "dstar.myNameIs()\n",
    "\n",
    "# least-squares function\n",
    "JFWI = vcl.LeastSquares(F,dstar)"
   ]
  },
  {
   "cell_type": "markdown",
   "metadata": {},
   "source": [
    "The next step is to inspect some values of the FWI objective along a line segment in model space between the homogeneous model (which might be the starting model for the optimization) and the model *m* used to generate the data (the \"target\" model, as it is to be recovered by inversion). "
   ]
  },
  {
   "cell_type": "code",
   "execution_count": 37,
   "metadata": {},
   "outputs": [
    {
     "name": "stdout",
     "output_type": "stream",
     "text": [
      "value of JFWI at homog model = 2.10472e-07\n",
      "norm of gradient at homog model = 2.5749796115697694e-09\n",
      "rate of change of J_FWI at m0 in direction of mstar = 1.08201e-11\n",
      "\n",
      "  t         j\n",
      "  0.00      2.1047e-07\n",
      "  0.10      2.1128e-07\n",
      "  0.20      2.1049e-07\n",
      "  0.30      2.0537e-07\n",
      "  0.40      1.9274e-07\n",
      "  0.50      1.6989e-07\n",
      "  0.60      1.3596e-07\n",
      "  0.70      9.3455e-08\n",
      "  0.80      4.9221e-08\n",
      "  0.90      1.4036e-08\n"
     ]
    },
    {
     "data": {
      "text/plain": [
       "Text(0.5, 1.0, 'FWI objective, homog to lens model')"
      ]
     },
     "execution_count": 37,
     "metadata": {},
     "output_type": "execute_result"
    },
    {
     "data": {
      "image/png": "[encoded data removed]",
      "text/plain": [
       "<Figure size 432x288 with 1 Axes>"
      ]
     },
     "metadata": {
      "needs_background": "light"
     },
     "output_type": "display_data"
    }
   ],
   "source": [
    "# homogeneous bulk modulus\n",
    "data.model(bulkfile='m0.rsf', bulk=4.0, nx=401, nz=201, dx=20, dz=20,\n",
    "           lensfac=1.0)\n",
    "m0 = vcl.Vector(bulksp,'m0.rsf')\n",
    "\n",
    "# value\n",
    "print('value of JFWI at homog model = ' + str(JFWI(m0)))\n",
    "# gradient\n",
    "g0 = JFWI.gradient(m0)\n",
    "print('norm of gradient at homog model = ' + str(g0.norm()))\n",
    "\n",
    "# unit vector from m0 in direction mstar\n",
    "dm = vcl.Vector(bulksp)\n",
    "dm.copy(mstar)\n",
    "dm.linComb(-1.0,m0)\n",
    "dm.scale(1.0/(dm.norm()))\n",
    "\n",
    "print('rate of change of J_FWI at m0 in direction of mstar = ' + str(g0.dot(dm)) + '\\n')\n",
    "\n",
    "tval=[]\n",
    "jval=[]\n",
    "print('  t         j')\n",
    "m = vcl.Vector(bulksp)\n",
    "for i in range(0,10):\n",
    "    m.copy(m0)\n",
    "    tval.append(float(i)/10.0)\n",
    "    # m = t*mstar + (1-t)*m0\n",
    "    m.linComb(tval[i],mstar,1.0-tval[i])\n",
    "    jval.append(JFWI(m))\n",
    "    #print('JFWI(' + str(t) + '*mstar+(1-' + str(t) + ')*m0) = ' + str(vals[i]))\n",
    "    print('%6.2f      %10.4e' % (tval[i], jval[i]))\n",
    "\n",
    "import matplotlib.pyplot as plt\n",
    "plt.plot(tval, jval)\n",
    "plt.xlabel('t: m = (1-t)*m0 + t*mstar')\n",
    "plt.ylabel('J_FWI(m)')\n",
    "plt.title('FWI objective, homog to lens model', fontsize=16)\n"
   ]
  },
  {
   "cell_type": "markdown",
   "metadata": {},
   "source": [
    "Uh-oh!!! Starting at the homogeneous bulk modulus, the vector to the target model is not a descent direction! This is a common pattern in FWI. This observation does not necessarily show that another local minimum exists - it only shows that there are at least two local minima of the $J_{\\rm FWI}$ *restricted to the line between $m_0$ and $m_*$*. To see that there might be another local min (not restricted to a line), you will have to go looking for it.\n",
    "\n",
    "## Preliminary exercises\n",
    "\n",
    "1. Compute and plot the gradient of $J_{\\rm FWI}$ at each of the 10 points on the line segment from $m_0$ to $m_*$, for which the values are computed above. Does the gradient look like its negative is a good search direction for some of these points? Note: look at the code for *vcl.LeastSquares* - the gradient is already coded as the output of a method. You just need to use it.\n",
    "\n",
    "2. Pick one of the models $(1-t)m_0 + t m_*$ for which the negative gradient looks like a constructive update direction, and do \"manual steepest descent\": guess a step in the negative gradient direction that should get the updated model close to the right one, add it, and do it again, a couple of times. How close can you get to the right model? To making $J_{\\rm FWI} = 0$?\n",
    "\n",
    "3. Change the \"depth\" of the lens in $m_*$: that is the parameter *lensfac* in *data.model*, which gives the ratio between the bulk modulus outside of the lens (which is constant in these models) and at the center of the lens. For *lensfac* = 0.4 or 0.3, the data traces are quite different from those produced by the homogeneous model $m_0$. You would expect the values of the objective to be larger, but is there more evidence of local minimizers? Does the gradient look much different?\n",
    "\n",
    "# FWI, take 1\n",
    "\n",
    "So let's apply the Steihaug Trust-Region Gauss-Newton algorithm to the FWI problem set up in the previous section. The bulk modulus 70\\% along from $m_0$ to $m_*$ seems to be in the basin of convexity for this problem, or so one might infer from the values computed above. So let's try it. The various parameters to *vcalg.trgn* are documented in the source file."
   ]
  },
  {
   "cell_type": "code",
   "execution_count": null,
   "metadata": {},
   "outputs": [],
   "source": [
    "    import vcalg\n",
    "    \n",
    "    m.copy(m0)\n",
    "    t = 0.7\n",
    "    # m = t*mstar + (1-t)*m0\n",
    "    m.linComb(t,mstar,1.0-t)\n",
    "    \n",
    "    imax      =10\n",
    "    eps       =0.01\n",
    "    kmax      =20\n",
    "    rho       =0.01\n",
    "    Delta     =1000\n",
    "    mured     =0.5\n",
    "    muinc     =1.8\n",
    "    gammared  =0.1\n",
    "    gammainc  =0.9\n",
    "    gnverbose =2\n",
    "    cgverbose =2\n",
    "    maxback   =10\n",
    "    \n",
    "    try:\n",
    "        vcalg.trgn(m, dstar, F, imax, eps, kmax, rho, Delta, \n",
    "                   mured, muinc, gammared, gammainc, \n",
    "                   gnverbose, cgverbose, maxback=10)\n",
    "    except Exception as ex:\n",
    "        print(ex)\n",
    "    "
   ]
  },
  {
   "cell_type": "markdown",
   "metadata": {},
   "source": [
    "Woops. In fact, the next bulk modulus had negative values - the step was too long, and violated the bound constraints on the velocity and density. These constraints are imposed so that the finite difference evolution of the acoustic field is well-defined. If the constraints are violated, the finite difference simulator won't work.\n",
    "\n"
   ]
  },
  {
   "cell_type": "markdown",
   "metadata": {},
   "source": [
    "# FWI, take 2\n",
    "\n",
    "Evidently it's necessary to use an algorithm that respects bounds. A simple one is described in *vcl.ipynb*. It works for simple bounds (not general constraints), by changing variables so that the entire real line (for each component) is mapped diffeomorphically onto the bound (open) interval. Then the mapping function can be composed with the simulator to produce a new simulator defined on $R^n$: in effect, the bounds have been built into the objective function. The present problem presents another obstacle, namely that the constraints are imposed on the velocity, whereas the optimization is to take place over bulk modulus. This is fixed by a further change of variable, so that in the end the domain of the modeling operator is a non-dimensional unbounded representation of velocity. Since the relation between this velocity representation and the bulk modulus (given the buoyancy or density) is $C^{\\infty}$-invertible, stationary points of the original and modified objective functions are in 1-1 correspondence. "
   ]
  },
  {
   "cell_type": "code",
   "execution_count": null,
   "metadata": {},
   "outputs": [],
   "source": [
    "# re-initialize everything, so you can start building the notebook here\n",
    "import data\n",
    "import vcl\n",
    "import vcalg\n",
    "import rsfvc\n",
    "import segyvc\n",
    "import asg\n",
    "import os\n",
    "\n",
    "# bulk modulus with lens\n",
    "data.model(bulkfile='mstar.rsf', bulk=4.0, nx=401, nz=201, dx=20, dz=20,\n",
    "           lensfac=0.7)\n",
    "\n",
    "# bandpass filter source at sx=4200, sz=3000 (single trace)\n",
    "data.bpfilt(file='wstar.su',nt=251,dt=8.0,s=1.0,f1=1.0,f2=2.5,f3=7.5,f4=12,sx=4200,sz=3000)\n",
    "    \n",
    "# create zero data file with same source position, rz=500, rx=[2000,6000]\n",
    "data.rechdr(file='data.su',nt=626,dt=8.0,ntr=201,rx=2000,rz=1000,sx=4200,sz=3000,drx=20)\n",
    "    \n",
    "# domain and range spaces\n",
    "bulksp = rsfvc.Space('mstar.rsf')\n",
    "datasp = segyvc.Space('data.su')\n",
    "  \n",
    "# wrap bulk modulus in Vector\n",
    "mstar = vcl.Vector(bulksp,'mstar.rsf')\n",
    "    \n",
    "# instantial modeling operator\n",
    "F = asg.fsbop(dom=bulksp, rng=datasp, \\\n",
    "            buoyancy='bymstar.rsf', source_p='wstar.su', \\\n",
    "            order=2, sampord=1, nsnaps=20,\\\n",
    "            cfl=0.5, cmin=1.0, cmax=3.0,dmin=0.8, dmax=3.0,\\\n",
    "            nl1=250, nr1=250, nl2=250, nr2=250, pmlampl=1.0)\n",
    "    \n",
    "# evaluate F[mstar], create noise-free data\n",
    "dstar = F(mstar)\n",
    "\n",
    "# homogeneous bulk modulus\n",
    "data.model(bulkfile='m0.rsf', bulk=4.0, nx=401, nz=201, dx=20, dz=20,\n",
    "           lensfac=1.0)\n",
    "m0 = vcl.Vector(bulksp,'m0.rsf')\n",
    "\n",
    "# reset initial m\n",
    "m = vcl.Vector(bulksp)\n",
    "m.copy(m0)\n",
    "t = 0.7\n",
    "# m = t*mstar + (1-t)*m0\n",
    "m.linComb(t,mstar,1.0-t)\n",
    "\n",
    "# create header file to define expanded velo space\n",
    "os.system('sfput < mstar.rsf label=\"Real\" unit=\"None\" > cx.rsf')\n",
    "cxsp   = rsfvc.Space('cx.rsf')\n",
    "\n",
    "# inverse map expanded c from bulkmod\n",
    "inv = asg.invrntobulkfb(bulksp, cxsp, 'bymstar.rsf', \n",
    "                        cmin=1.0, cmax=3.0, dmin=0.8, dmax=3.0)\n",
    "\n",
    "# initial expanded velo model, corresponding to m\n",
    "cx7 = inv(m)\n",
    "\n",
    "# forward map expanded c to bulkmod\n",
    "fwd = asg.rntobulkfb(cxsp, bulksp, 'bymstar.rsf', \n",
    "                     cmin=1.0, cmax=3.0, dmin=0.8, dmax=3.0)\n",
    "\n",
    "# composition: modeling on expanded velo space\n",
    "Fmod = vcl.comp(F, fwd)\n",
    "\n",
    "# KGN in expanded velo space - same params as before\n",
    "imax      =10\n",
    "eps       =0.01\n",
    "kmax      =20\n",
    "rho       =0.01\n",
    "Delta     =1000\n",
    "mured     =0.5\n",
    "muinc     =1.8\n",
    "gammared  =0.1\n",
    "gammainc  =0.9\n",
    "gnverbose =2\n",
    "cgverbose =2\n",
    "maxback   =10\n",
    "    \n",
    "try:\n",
    "    vcalg.trgn(cx7, dstar, Fmod, imax, eps, kmax, rho, Delta, \n",
    "               mured, muinc, gammared, gammainc, \n",
    "               gnverbose, cgverbose, maxback=10)\n",
    "except Exception as ex:\n",
    "    print(ex)\n"
   ]
  },
  {
   "cell_type": "markdown",
   "metadata": {},
   "source": [
    "Here is the result: the initial bulk modulus is plotted first, followed by the final bulk modulus output by *trgn*, followed by the \"true\" bulk modulus $m_*$. All plots on the same color scale. The *trgn* \"solution\" shows various \"artifacts\", such as oscillations around the source and receivers, some of which could be suppressed by regularizations of various types. However the main quality is the deeper lens, much closer in profile to the \"true\" lens."
   ]
  },
  {
   "cell_type": "code",
   "execution_count": null,
   "metadata": {},
   "outputs": [],
   "source": [
    "# plot data stored in m\n",
    "import linalg\n",
    "import vcl\n",
    "mbeg7=vcl.Vector(bulksp)\n",
    "mbeg7.copy(m0)\n",
    "t = 0.7\n",
    "mbeg7.linComb(t,mstar,1.0-t)\n",
    "linalg.simplot(mbeg7.data, addcb=True, minval=2.5, maxval=4.5)\n",
    "\n",
    "# plot result of KGN iteration, translated to bulkmod\n",
    "mfin7 = fwd(cx7)\n",
    "linalg.simplot(mfin7.data, addcb=True, minval=2.5, maxval=4.5)\n",
    "\n",
    "# plot target bulk mod\n",
    "linalg.simplot(mstar.data, addcb=True, minval=2.5, maxval=4.5)"
   ]
  },
  {
   "cell_type": "markdown",
   "metadata": {},
   "source": [
    "The important point is that the simulated data has become much closer, as indicated by the values of $J$ (from initial value of 9.3455e-08 to final value of 8.2390e-12). Here are plots (on the same scale/clip) of the initial and final seismograms and initial and final residuals (differences with $d_*=F(m_*)$):"
   ]
  },
  {
   "cell_type": "code",
   "execution_count": null,
   "metadata": {},
   "outputs": [],
   "source": [
    "dbeg7 = F(mbeg7)\n",
    "dfin7 = F(mfin7)\n",
    "rbeg7 = vcl.Vector(dbeg7.space)\n",
    "rbeg7.copy(dbeg7)\n",
    "rbeg7.linComb(-1.0,dstar)\n",
    "rfin7 = vcl.Vector(dfin7.space)\n",
    "rfin7.copy(dfin7)\n",
    "rfin7.linComb(-1.0,dstar)\n",
    "\n",
    "linalg.simplot(dbeg7.data,clip=4.0e-6)\n",
    "linalg.simplot(dfin7.data,clip=4.0e-6)\n",
    "linalg.simplot(rbeg7.data,clip=4.0e-6)\n",
    "linalg.simplot(rfin7.data,clip=4.0e-6)\n",
    "\n",
    "print('initial relative error = %10.4e' % (rbeg7.norm()/mstar.norm()))\n",
    "print('final relative error   = %10.4e' % (rfin7.norm()/mstar.norm()))"
   ]
  },
  {
   "cell_type": "markdown",
   "metadata": {},
   "source": [
    "The error in the final residual seismogram is less than 1\\% of the data norm. For seismic data, that's an exact match.\n",
    "\n",
    "Emboldened by our success, let's try again, but this time from the homogeneous model:"
   ]
  },
  {
   "cell_type": "code",
   "execution_count": null,
   "metadata": {},
   "outputs": [],
   "source": [
    "m.copy(m0)\n",
    "t = 0.0\n",
    "# m = t*mstar + (1-t)*m0\n",
    "m.linComb(t,mstar,1.0-t)\n",
    "# initial expanded velo model, corresponding to m\n",
    "cx = inv(m)\n",
    "    \n",
    "imax      =10\n",
    "eps       =0.01\n",
    "kmax      =20\n",
    "rho       =0.01\n",
    "Delta     =1000\n",
    "mured     =0.5\n",
    "muinc     =1.8\n",
    "gammared  =0.1\n",
    "gammainc  =0.9\n",
    "gnverbose =1\n",
    "cgverbose =0\n",
    "maxback   =10\n",
    "gnorm0    =None\n",
    "    \n",
    "try:\n",
    "    [Delta, gnorm0] = vcalg.trgn(cx, dstar, Fmod, imax, \n",
    "                     eps, kmax, rho, Delta, \n",
    "                     mured, muinc, gammared, gammainc, \n",
    "                     gnverbose, cgverbose, maxback)\n",
    "except Exception as ex:\n",
    "    print(ex)"
   ]
  },
  {
   "cell_type": "markdown",
   "metadata": {},
   "source": [
    "This is a much poorer result, however we are starting from further away, so perhaps that's to be expected - just further to go. Plotting the bulk modulus in the same way as before emphasizes just how unsatisfactory this inversion is:"
   ]
  },
  {
   "cell_type": "code",
   "execution_count": null,
   "metadata": {},
   "outputs": [],
   "source": [
    "# plot result of KGN iteration, translated to bulkmod\n",
    "mfin = fwd(cx)\n",
    "linalg.simplot(mfin.data, addcb=True, minval=2.5, maxval=4.5)\n",
    "\n",
    "# plot target bulk mod\n",
    "linalg.simplot(mstar.data, addcb=True, minval=2.5, maxval=4.5)"
   ]
  },
  {
   "cell_type": "markdown",
   "metadata": {},
   "source": [
    "The recovered bulk modulus is of much poorer quality, with strong horizontal oscilation. Note that the final gradient norm, while not as small as was obtained in the previous example, is only an order of magnitude larger, and has decreased by two orders of magnitude from its intial value.\n",
    "\n",
    "As always, the acid test is the degree to which the data is fit, or rather the extent to which the best possible data fit has been approximated. This data (*dstar*) is noise-free. Here is the comparison, with the simulated data at the beginning and final models, and the residuals, all plotted on the same scale (the same scale as was used to plot *dstar*, above)."
   ]
  },
  {
   "cell_type": "code",
   "execution_count": null,
   "metadata": {},
   "outputs": [],
   "source": [
    "dbeg = F(m)\n",
    "dfin = F(mfin)\n",
    "rbeg=vcl.Vector(dbeg.space)\n",
    "rbeg.copy(dbeg)\n",
    "rbeg.linComb(-1.0,dstar)\n",
    "rfin=vcl.Vector(dfin.space)\n",
    "rfin.copy(dfin)\n",
    "rfin.linComb(-1.0,dstar)\n",
    "\n",
    "linalg.simplot(dbeg.data,clip=4.0e-6)\n",
    "linalg.simplot(dfin.data,clip=4.0e-6)\n",
    "linalg.simplot(rbeg.data,clip=4.0e-6)\n",
    "linalg.simplot(rfin.data,clip=4.0e-6)\n",
    "\n",
    "print('initial relative error = %10.4e' % (rbeg.norm()/dstar.norm()))\n",
    "print('final relative error   = %10.4e' % (rfin.norm()/dstar.norm()))"
   ]
  },
  {
   "cell_type": "markdown",
   "metadata": {},
   "source": [
    "To see more clearly how much more data residual there is, plot both the residual for $t=0.0$ (the last result) and $t=0.7$ (the previous one) with an order of magnitude smaller clip:  "
   ]
  },
  {
   "cell_type": "code",
   "execution_count": null,
   "metadata": {},
   "outputs": [],
   "source": [
    "linalg.simplot(rfin.data,clip=4.0e-7)\n",
    "linalg.simplot(rfin7.data,clip=4.0e-7)\n",
    "print('final relative error, t=0.0: %10.4e' % (rfin.norm()/dstar.norm()))\n",
    "print('final relative error, t=0.7: %10.4e' % (rfin7.norm()/dstar.norm()))"
   ]
  },
  {
   "cell_type": "markdown",
   "metadata": {},
   "source": [
    "Since we know that the actual noise level in this data is 0.0, it's clear that the t=0.7 result is superior to the t=0.0 result, by an order of magnitude. But would we have known which to choose if we did not know the actual error level?\n",
    "\n",
    "This situation is very common in practice, where the actual error level is never known with any precision. Practitioners distinguish between good inversion results and bad (cycle-skipped) ones by the model features. The \"bad\" result here might be rejected because the user does not expect to see very rapid horizontal changes in bulk modulus, and recognizes it as the signature of cycle-skipping. The better data fit produced by the other model might be taken as further evidence that it is closer to reality.\n",
    "\n",
    "Of course, we got our \"better\" result by cheating, using an initial model that we happen to know is not too far off. Practitioners have a variety of tools (such as travel time tomography) to do a version of \"cheating\". AWI is an attempt to avoid the apparent trapping by cycle-skipped models shown in the last example, without resorting to data other than the seismic traces."
   ]
  },
  {
   "cell_type": "markdown",
   "metadata": {},
   "source": [
    "# AWI in penalty form\n",
    "\n",
    "Recall that the AWI objective function is the $\\alpha \\rightarrow 0$ limit of a reduced penalty function:\n",
    "$$J_0[m,w_*] = \\lim_{\\alpha \\rightarrow 0} \\frac{1}{\\alpha^2}\\tilde{J}_{\\alpha}[m,w_*]\n",
    "$$ \n",
    "where \n",
    "$$\n",
    "\\tilde{J}_{\\alpha}[m,w_*] = \\min_u J_{\\alpha}[m,w_*,u]\n",
    "$$\n",
    "$$\n",
    "= J_{\\alpha}[m,w_*,\\tilde{u}_{\\alpha}[m,w_*]]\n",
    "$$\n",
    "with\n",
    "$$\n",
    "J_{\\alpha}[m,w_*,u] = \\frac{1}{2}(\\|{\\bar S}[m,w_*]u-d\\|^2 + \\alpha^2 \\|T[m,w_*]u\\|^2)\n",
    "$$\n",
    "Here $T$ is the multiply-by-$t$ operator, scaled by the reciprocal norm of the corresponding trace of $\\tilde{u}_0[m,w_*]$, the solution of the $\\alpha=0$ problem:\n",
    "$$\n",
    "\\tilde{u}_0[m,w_*] = \\mbox{argmin}_u \\|\\bar{S}[m,w_*]u-d\\|^2\n",
    "$$\n",
    "$$\n",
    "T[m,w_*]u(t,x_r, x_s) = tu(t,x_r,x_s)\\left(\\int dt'|\\tilde{u}_0[m,w_*](t',x_r,x_s)|^2\\right)^{-1/2} = \\frac{tu(t,x_r,x_s)}{\\|\\tilde{u}_0[m,w_*](\\cdot,x_r,x_s)\\|}\n",
    "$$\n",
    "Note that the scaling by the reciprocal norm of $\\tilde{u}_0$ is trace-by-trace - that is very important.\n",
    "\n",
    "One of the goals of this project is documenting the importance of this scaling as a preconditioner. Therefore the implementation will offer it as an option.\n",
    "\n",
    "The \n",
    "\n",
    "## NB: wavelet suppressed in notation\n",
    "I have dragged the known source wavelet $w_*$ along throughout this whole discussion. Since it is unaltered by any of the proposed computations, I'm going to suppress it from the notation.\n",
    "\n",
    "# Computation of the objective function\n",
    "Like all penalty functions, this one is best viewed as a least-squares objective of a map with values in a product space: define\n",
    "$$\n",
    "A_{\\alpha}[m] =  \n",
    "\\left[\n",
    "\\begin{array}{c}\n",
    "S[m]\\\\\n",
    "\\alpha T[m]\n",
    "\\end{array}\n",
    "\\right]\n",
    ", \\, b = \\left[\n",
    "\\begin{array}{c}\n",
    "d\\\\\n",
    "0\n",
    "\\end{array}\n",
    "\\right]\n",
    "$$\n",
    "Then\n",
    "$$\n",
    "J_{\\alpha}[m,u] = 0.5\\|A_{\\alpha}[m]u-b\\|^2\n",
    "$$\n",
    "\n",
    "Both Newton's method with the Kaufman Hessian approximation (described in the VCL notebook) and LBFGS or similar first-order methods apply to minimization of $\\tilde{J}_{\\alpha}[m]$. As shown in the VCL notebook, application of these algorithms to a VPM reduction like $\\tilde{J}_{\\alpha}$ requires access to two linear operator valued functions of $m$, namely $A_{\\alpha}[m]$ and the derivative $D_m(A_{\\alpha}[m]w)$. \n",
    "\n",
    "## Computing $A_{\\alpha}[m]$\n",
    "The two components are separate - in fact, the first component (map from wavelet to output trace) is convolutional, therefore diagonal in the frequency domain, whereas the second component is multiplication by a function of time, therefore diagonal in the time domain.\n",
    "\n",
    "Step 1. Use the *asg.fsbop* finite difference operator as before to compute the predicted data *p* from the bulk modulus *m* and the wavelet *w* (assumed known!). The\n",
    "\n",
    "Step 2. Define the domain of the AWI forward map, i.e. the space of adaptive kernels. Same number of traces as data, but time intervals symmetric about 0 and shorter, 2 - 3 times the length of the known wavelet trace. Define the convolutional operator $S[m]$ from adaptive kernel to data, as the *segyvc.ConvolutionalOperator* with Green's functiopn = predicted data from step 1. $S[m]$ is the first component of the AWI operator.\n",
    "\n",
    "Step 3. For the second component, use the *awi.awipen* class. The no-preconditioning case (precond=0) requires only the specification of the penalty weight *alpha*. The preconditioned case requires in addition the observed data, the predicted data, and CG parameters.\n",
    "\n",
    "These steps are carried out in the next cell. Mostly focus on the penalty operator, since the AWI modeling operator has been discussed earlier. The penalty operator is applied to the AWI kernel solving the alpha=0 problem for two different choices of model, lens and homogeneous.\n"
   ]
  },
  {
   "cell_type": "code",
   "execution_count": null,
   "metadata": {},
   "outputs": [],
   "source": [
    "import linalg\n",
    "import data\n",
    "import vcl\n",
    "import vcalg\n",
    "import segyvc\n",
    "import rsfvc\n",
    "import asg\n",
    "import os\n",
    "import awi\n",
    "\n",
    "    ################## domain, range spaces ###################\n",
    "\n",
    "try:\n",
    "\n",
    "    ### STEP 1. Define the forward modeling operator, compute the predicted\n",
    "    ### data\n",
    "    \n",
    "    # bulk modulus with less focussing lens\n",
    "    data.model(bulkfile='m.rsf', bulk=4.0, nx=401, nz=201,\n",
    "                   dx=20, dz=20, lensfac=0.7)\n",
    "\n",
    "    # homogeneous bulk modulus \n",
    "    data.model(bulkfile='m0.rsf', bulk=4.0, nx=401, nz=201,\n",
    "                   dx=20, dz=20, lensfac=1.0)\n",
    "\n",
    "    # bandpass filter source at sx=4200, sz=3000 (single trace)\n",
    "    data.bpfilt(file='wstar.su',nt=251,dt=8.0,s=1.0,\n",
    "                    f1=1.0,f2=2.5,f3=7.5,f4=12,sx=4200,sz=3000)\n",
    "    linalg.scale('wstar.su',1.0e+3)\n",
    "    \n",
    "    # create zero data file with same source position, rz=500, rx=[2000,6000]\n",
    "    data.rechdr(file='g.su',nt=626,dt=8.0,ntr=201,\n",
    "                    rx=2000.0,rz=1000.0,sx=4200,sz=3000,drx=20.0)\n",
    "    \n",
    "    bulksp = rsfvc.Space('m.rsf')\n",
    "    datasp = segyvc.Space('g.su')\n",
    "    \n",
    "    F = asg.fsbop(dom=bulksp, rng=datasp, \\\n",
    "                buoyancy='bym.rsf', source_p='wstar.su', \\\n",
    "                order=2, sampord=1, nsnaps=20,\\\n",
    "                cfl=0.5, cmin=1.0, cmax=3.0,dmin=0.8, dmax=3.0,\\\n",
    "                nl1=250, nr1=250, nl2=250, nr2=250, pmlampl=1.0)\n",
    "    \n",
    "    print('compute lens data')\n",
    "    m = vcl.Vector(bulksp,'m.rsf')\n",
    "    Fm = F(m)\n",
    "\n",
    "    print('compute hom data')\n",
    "    m0 = vcl.Vector(bulksp,'m0.rsf')\n",
    "    Fm0 = F(m0)\n",
    "    \n",
    "    #### STEP 2: first component of AWI operator = convolution with predicted data\n",
    "    #### two different models for this exercise: lens and homogeneous\n",
    "    \n",
    "    data.rechdr(file='baru.su',nt=251,dt=8.0,\\\n",
    "                ntr=201,rx=2000,rz=1000,sx=4200,sz=3000,drx=20,delrt=-1000)\n",
    "    usp=segyvc.Space('baru.su')\n",
    "    barSm = segyvc.ConvolutionOperator(dom=usp, rng=datasp, \n",
    "                                        green=Fm.data)\n",
    "    barSm0 = segyvc.ConvolutionOperator(dom=usp, rng=datasp, \n",
    "                                        green=Fm0.data)\n",
    "\n",
    "    #### STEP 3: construct AWI penalty operator\n",
    "    \n",
    "    print('construct AWI penalty operator, precond=0')\n",
    "    op0 = awi.awipen(dom=usp, alpha=1.e-4)\n",
    "\n",
    "    barull = vcl.Vector(usp)\n",
    "    baruhl = vcl.Vector(usp)\n",
    "    pent0ll = vcl.Vector(usp)\n",
    "    pent1ll = vcl.Vector(usp)\n",
    "    pent0hl = vcl.Vector(usp)\n",
    "    pent1hl = vcl.Vector(usp)\n",
    "\n",
    "    print('construct AWI penalty operator, precond=1, case lens-lens')\n",
    "    opll1 = awi.awipen(dom=usp, alpha=1.0e-4, precond=1,\n",
    "                         d=Fm, p=Fm,\n",
    "                         kmax=20, eps=0.01, rho=0.01, verbose=0)\n",
    "\n",
    "    print('construct AWI penalty operator, precond=1, case hom-lens')\n",
    "    ophl1 = awi.awipen(dom=usp, alpha=1.0e-4, precond=1,\n",
    "                         d=Fm, p=Fm0,\n",
    "                         kmax=20, eps=0.01, rho=0.01, verbose=0)    \n",
    "    \n",
    "    print('compute awi kernel in case lens-lens')\n",
    "    vcalg.conjgrad(x=barull, b=Fm, A=barSm, kmax=20, eps=0.01, rho=0.01, verbose=0)\n",
    "\n",
    "    print('apply AWI penalty operator, precond=1, case lens-lens')\n",
    "    pent1ll = opll1*barull\n",
    "\n",
    "    print('apply AWI penalty operator, precond=0, case lens-lens')\n",
    "    pent0ll = op0*barull\n",
    "\n",
    "    print('compute awi kernel in case hom-lens')\n",
    "    vcalg.conjgrad(x=baruhl, b=Fm, A=barSm0, kmax=20, eps=0.01, rho=0.01, verbose=0)\n",
    "\n",
    "    print('apply AWI penalty operator, precond=1, case hom-lens')\n",
    "    pent1hl = ophl1*baruhl\n",
    "\n",
    "    print('apply AWI penalty operator, precond=0, case hom-lens')\n",
    "    pent0hl = op0*baruhl\n",
    "    \n",
    "except Exception as ex:\n",
    "    print(ex)\n"
   ]
  },
  {
   "cell_type": "markdown",
   "metadata": {},
   "source": [
    "AWI kernel, case lens-lens"
   ]
  },
  {
   "cell_type": "code",
   "execution_count": null,
   "metadata": {},
   "outputs": [],
   "source": [
    "linalg.simplot(barull.data)"
   ]
  },
  {
   "cell_type": "markdown",
   "metadata": {},
   "source": [
    "Output of AWI penalty op, precond=0, lens-lens"
   ]
  },
  {
   "cell_type": "code",
   "execution_count": null,
   "metadata": {},
   "outputs": [],
   "source": [
    "linalg.simplot(pent0ll.data)"
   ]
  },
  {
   "cell_type": "markdown",
   "metadata": {},
   "source": [
    "Output of AWI penalty op, precond=1, lens-lens"
   ]
  },
  {
   "cell_type": "code",
   "execution_count": null,
   "metadata": {},
   "outputs": [],
   "source": [
    "linalg.simplot(pent1ll.data)"
   ]
  },
  {
   "cell_type": "markdown",
   "metadata": {},
   "source": [
    "AWI kernel, case hom-lens"
   ]
  },
  {
   "cell_type": "code",
   "execution_count": null,
   "metadata": {},
   "outputs": [],
   "source": [
    "linalg.simplot(baruhl.data)"
   ]
  },
  {
   "cell_type": "markdown",
   "metadata": {},
   "source": [
    "Output of AWI penalty op, precond=0, hom-lens"
   ]
  },
  {
   "cell_type": "code",
   "execution_count": null,
   "metadata": {},
   "outputs": [],
   "source": [
    "linalg.simplot(pent0hl.data)"
   ]
  },
  {
   "cell_type": "markdown",
   "metadata": {},
   "source": [
    "Output of AWI penalty op, precond=1, hom-lens"
   ]
  },
  {
   "cell_type": "code",
   "execution_count": null,
   "metadata": {},
   "outputs": [],
   "source": [
    "linalg.simplot(pent1hl.data)"
   ]
  },
  {
   "cell_type": "markdown",
   "metadata": {},
   "source": [
    "## VPM Calculation via jets\n",
    "\n",
    "Proceed to computing values of the AWI-VPM function. Treat the domain and range of the AWI operator as product spaces, as they are. Also, it helps to use the VPM framework explained in the VCL notebook and laid out in *vpm.py*. Here is the inialization, once again set up so that it can be run independently of the rest of this notebook:"
   ]
  },
  {
   "cell_type": "code",
   "execution_count": 1,
   "metadata": {},
   "outputs": [
    {
     "name": "stdout",
     "output_type": "stream",
     "text": [
      "...\n"
     ]
    }
   ],
   "source": [
    "import linalg\n",
    "import data\n",
    "import vcl\n",
    "import vcalg\n",
    "import vpm\n",
    "import segyvc\n",
    "import rsfvc\n",
    "import asg\n",
    "import os\n",
    "import awi\n",
    "\n",
    "\n",
    "# bulk modulus with lens\n",
    "data.model(bulkfile='m.rsf', bulk=4.0, nx=401, nz=201,\n",
    "                   dx=20, dz=20, lensfac=0.7)\n",
    "\n",
    "# homogeneous bulk modulus \n",
    "data.model(bulkfile='m0.rsf', bulk=4.0, nx=401, nz=201,\n",
    "                   dx=20, dz=20, lensfac=1.0)\n",
    "\n",
    "# construct bulk modulus space (domain of modeling operator)\n",
    "bulksp = rsfvc.Space('m.rsf')\n",
    "\n",
    "# bandpass filter source at sx=4200, sz=3000 (single trace)\n",
    "data.bpfilt(file='wstar.su',nt=251,dt=8.0,s=1.0,\n",
    "                    f1=1.0,f2=2.5,f3=7.5,f4=12,sx=4200,sz=3000)\n",
    "linalg.scale('wstar.su',1.0e+3)\n",
    "    \n",
    "# create zero data file with same source position, rz=500, rx=[2000,6000]\n",
    "# use it to define data space\n",
    "data.rechdr(file='g.su',nt=626,dt=8.0,ntr=201,\n",
    "                    rx=2000.0,rz=1000.0,sx=4200,sz=3000,drx=20.0)\n",
    "datasp = segyvc.Space('g.su')\n",
    "    \n",
    "# construct SU file with same spatial geometry, time range -1 < t < 1 s, \n",
    "# for adaptive kernels (extended source)\n",
    "data.rechdr(file='baru.su',nt=251,dt=8.0,\\\n",
    "              ntr=201,rx=2000,rz=1000,sx=4200,sz=3000,drx=20,delrt=-1000)\n",
    "usp=segyvc.Space('baru.su')    \n",
    "\n",
    "# construct product domain and range\n",
    "dom = vcl.ProductSpace([bulksp,usp])\n",
    "rng = vcl.ProductSpace([datasp,usp])\n",
    "\n",
    "# construct FD simulator\n",
    "F = asg.fsbop(dom=bulksp, rng=datasp, \\\n",
    "            buoyancy='bym.rsf', source_p='wstar.su', \\\n",
    "            order=2, sampord=1, nsnaps=20,\\\n",
    "            cfl=0.5, cmin=1.0, cmax=3.0,dmin=0.8, dmax=3.0,\\\n",
    "            nl1=250, nr1=250, nl2=250, nr2=250, pmlampl=1.0)\n",
    "\n",
    "# compute data traces, corresponding to lens model\n",
    "m = vcl.Vector(bulksp,'m.rsf')\n",
    "d = vcl.Vector(rng)\n",
    "d[0].copy(F(m))\n",
    "\n",
    "print('...')"
   ]
  },
  {
   "cell_type": "markdown",
   "metadata": {},
   "source": [
    "The central object of VPM is the separable function, domain = product space $X_0 \\times X_1$, linear in the second variable ($X_1$) and (possibly) nonlinear in the first. The only attributes of a separable function object required for VPM calculations are the function that fixes the first argument (in $X_0$), resulting in a linear operator, and a similar function defined by the partial derivative in $X_0$, resulting in a bilinear operator. The class *vpm.SepFunction* encapsulates this idea: the first function is *opfcn*, the second is *derfcn*. The VPM discussion in the VCL notebook explains this class in detail.\n",
    "\n",
    "It's relatively easy to build a *vpm.SepFunction* subclass based on the AWI framework - the only hard part is the penalty operator, and that is already done. I have revised the interface to simplify the argument list, by defining the least squares solver function outside of the penalty operator. Recall that it's only needed for the preconditioned case, to compute the $\\alpha=0$ adaptive kernel and the corresponding trace norms, used to scale the output. This calculation also needs the data traces, so I have used the non-*None* values of the solver ahd the data vector to flag the preconditioned case. If either of these is not given (both arguments default to *None*), then the non-preconditioned penalty operator is computed.\n",
    "\n",
    "With the penalty operator computed (as shown in the last section, with these minor modifications), it can be stacked up under the convolution with the predicted data to form the AWI operator, which is to be the output of the *vpm.SepFunction.opfcn* method. So the *vpm.SepFunction* specialization, namely *awi.awisep*, looks much like the *awi.awiop* class, except that it delegates to the simulator *asg.fsbop* and (optionally) the least squares solver rather than to the predicted data. These classes are laid out in *awi.py*, and used in the next cell to compute the values of the AWI-VPM objective function along a line in model space:"
   ]
  },
  {
   "cell_type": "code",
   "execution_count": 2,
   "metadata": {},
   "outputs": [
    {
     "name": "stdout",
     "output_type": "stream",
     "text": [
      "  t         j\n",
      "  0.00     3.2641e-04\n",
      "  0.10     3.0191e-04\n",
      "  0.20     2.8550e-04\n",
      "  0.30     2.5101e-04\n",
      "  0.40     2.2445e-04\n",
      "  0.50     2.0485e-04\n",
      "  0.60     1.9238e-04\n",
      "  0.70     1.8680e-04\n",
      "  0.80     1.8759e-04\n",
      "  0.90     1.7832e-04\n",
      "  1.00     1.7526e-04\n"
     ]
    },
    {
     "data": {
      "text/plain": [
       "Text(0.5, 1.0, 'AWI-VPM objective, alpha=10^-4, precond=0')"
      ]
     },
     "execution_count": 2,
     "metadata": {},
     "output_type": "execute_result"
    },
    {
     "data": {
      "image/png": "[encoded data removed]",
      "text/plain": [
       "<Figure size 432x288 with 1 Axes>"
      ]
     },
     "metadata": {
      "needs_background": "light"
     },
     "output_type": "display_data"
    }
   ],
   "source": [
    "# construct CG solver for internal AWI use\n",
    "sol = vcalg.cgne(kmax=20, eps=0.01, rho=0.01, verbose=0)\n",
    "\n",
    "# construct awisep, precond=0\n",
    "sep0 = awi.awisep(dom, rng, F, alpha=1.0e-4)\n",
    "\n",
    "# homog model\n",
    "m0 = vcl.Vector(bulksp,'m0.rsf')\n",
    "\n",
    "# test bulkmod\n",
    "mt = vcl.Vector(bulksp)\n",
    "\n",
    "# sample t in [0,1]\n",
    "tval = []\n",
    "for i in range(11):\n",
    "    tval.append(float(i)/10.0)\n",
    "    \n",
    "jval0 = []\n",
    "\n",
    "print('  t         j')\n",
    "for i in range(11):\n",
    "    mt.copy(m)\n",
    "    mt.linComb(1.0-tval[i],m0,tval[i])\n",
    "    j = vpm.vpmjet(mt, sep0, d, sol)\n",
    "    jval0.append(j.value())\n",
    "    print('%6.2f     %10.4e' % (tval[i], jval0[i]))\n",
    "    \n",
    "import matplotlib.pyplot as plt\n",
    "plt.plot(tval, jval0)\n",
    "plt.xlabel('t: m = (1-t)*m0 + t*mstar')\n",
    "plt.ylabel('J_AWI(m)')\n",
    "plt.title('AWI-VPM objective, alpha=10^-4, precond=0', fontsize=16)"
   ]
  },
  {
   "cell_type": "markdown",
   "metadata": {},
   "source": [
    "Oh dear - at least restricted to this line segment, this function appears to have multiple local minima. Even worse, it is quite sensitive to the accuracy of the adaptive kernel computation: try setting eps=rho=$10^{-3}$, then kmax=40, to produce curves with apparent *global* minima not equal to the \"true\" model! This computation calls into question the use of the unpreconditioned penalty operator. \n",
    "\n",
    "Recall that the preconditioning step played a major role in esatblishing the link between the AWI objective and travel-time tomography, which has the desired local convexity property. To calculate the preconditioned objective, I use the same least squares solver to compute the adaptive kernel for $\\alpha > 0$ as is used to compute the kernel for $\\alpha=0$ in the preconditioner, thus there are two CG loops per evaluation of the preconditioned AWI-VPM objective, twice the expense of the unpreconditioned objective."
   ]
  },
  {
   "cell_type": "code",
   "execution_count": 31,
   "metadata": {
    "scrolled": true
   },
   "outputs": [
    {
     "name": "stdout",
     "output_type": "stream",
     "text": [
      "  t         j\n",
      "  0.00     3.1107e-03\n",
      "  0.10     2.6675e-03\n",
      "  0.20     2.2464e-03\n",
      "  0.30     1.8477e-03\n",
      "  0.40     1.4736e-03\n",
      "  0.50     1.1320e-03\n",
      "  0.60     8.2848e-04\n",
      "  0.70     5.6566e-04\n",
      "  0.80     3.5077e-04\n",
      "  0.90     1.9427e-04\n",
      "  1.00     1.0306e-04\n"
     ]
    },
    {
     "data": {
      "text/plain": [
       "Text(0.5, 1.0, 'AWI-VPM objective, alpha=10^-4, precond=1')"
      ]
     },
     "execution_count": 31,
     "metadata": {},
     "output_type": "execute_result"
    },
    {
     "data": {
      "image/png": "[encoded data removed]",
      "text/plain": [
       "<Figure size 432x288 with 1 Axes>"
      ]
     },
     "metadata": {
      "needs_background": "light"
     },
     "output_type": "display_data"
    }
   ],
   "source": [
    "# construct awisep, precond=1\n",
    "sol4 = vcalg.cgne(kmax=200, eps=0.000001, rho=0.000001, verbose=0)\n",
    "sep1 = awi.awisep(dom, rng, F, alpha=1.0e-4, awisol=sol4, observed=d[0])\n",
    "\n",
    "jval1 = []\n",
    "\n",
    "print('  t         j')\n",
    "for i in range(11):\n",
    "    t = float(i)/10.0\n",
    "    mt.copy(m)\n",
    "    mt.linComb(1.0-t,m0,t)\n",
    "    j = vpm.vpmjet(mt, sep1, d, sol4)\n",
    "    jval1.append(j.value())\n",
    "    print('%6.2f     %10.4e' % (tval[i], jval1[i]))\n",
    "    \n",
    "import matplotlib.pyplot as plt\n",
    "plt.plot(tval, jval1)\n",
    "plt.xlabel('t: m = (1-t)*m0 + t*mstar')\n",
    "plt.ylabel('J_AWI(m)')\n",
    "plt.title('AWI-VPM objective, alpha=10^-4, precond=1', fontsize=16)"
   ]
  },
  {
   "cell_type": "markdown",
   "metadata": {},
   "source": [
    "This result turns out to be quite stable against changes in the inner solve precision - try changes in the CG parameters similar to those suggested above. \n",
    "\n",
    "So far I have used a somewhat arbitrarily selected value of the penalty parameter $\\alpha = 10^{-4}$. Here is the result of increasing this parameter by two orders of magnitude:"
   ]
  },
  {
   "cell_type": "code",
   "execution_count": 23,
   "metadata": {},
   "outputs": [
    {
     "name": "stdout",
     "output_type": "stream",
     "text": [
      "  t         j\n",
      "  0.00     1.2614e-01\n",
      "  0.10     1.2604e-01\n",
      "  0.20     1.2592e-01\n",
      "  0.30     1.2576e-01\n",
      "  0.40     1.2558e-01\n",
      "  0.50     1.2537e-01\n",
      "  0.60     1.2508e-01\n",
      "  0.70     1.2471e-01\n",
      "  0.80     1.2411e-01\n",
      "  0.90     1.2304e-01\n",
      "  1.00     1.2091e-01\n"
     ]
    },
    {
     "data": {
      "text/plain": [
       "Text(0.5, 1.0, 'AWI-VPM objective, alpha=10^-2, precond=1')"
      ]
     },
     "execution_count": 23,
     "metadata": {},
     "output_type": "execute_result"
    },
    {
     "data": {
      "image/png": "[encoded data removed]",
      "text/plain": [
       "<Figure size 432x288 with 1 Axes>"
      ]
     },
     "metadata": {
      "needs_background": "light"
     },
     "output_type": "display_data"
    }
   ],
   "source": [
    "# construct awisep, precond=1\n",
    "sep2 = awi.awisep(dom, rng, F, alpha=1.0e-2, awisol=sol, observed=d[0])\n",
    "\n",
    "jval2 = []\n",
    "\n",
    "print('  t         j')\n",
    "for i in range(11):\n",
    "    t = float(i)/10.0\n",
    "    mt.copy(m)\n",
    "    mt.linComb(1.0-t,m0,t)\n",
    "    j = vpm.vpmjet(mt, sep2, d, sol)\n",
    "    jval2.append(j.value())\n",
    "    print('%6.2f     %10.4e' % (tval[i], jval2[i]))\n",
    "    \n",
    "import matplotlib.pyplot as plt\n",
    "plt.plot(tval, jval2)\n",
    "plt.xlabel('t: m = (1-t)*m0 + t*mstar')\n",
    "plt.ylabel('J_AWI(m)')\n",
    "plt.title('AWI-VPM objective, alpha=10^-2, precond=1', fontsize=16)"
   ]
  },
  {
   "cell_type": "code",
   "execution_count": 24,
   "metadata": {},
   "outputs": [
    {
     "name": "stdout",
     "output_type": "stream",
     "text": [
      "  t         j\n",
      "  0.90     1.2280e-01\n",
      "  0.91     1.2263e-01\n",
      "  0.92     1.2244e-01\n",
      "  0.93     1.2225e-01\n",
      "  0.94     1.2203e-01\n",
      "  0.95     1.2180e-01\n",
      "  0.96     1.2156e-01\n",
      "  0.97     1.2131e-01\n",
      "  0.98     1.2106e-01\n",
      "  0.99     1.2081e-01\n",
      "  1.00     1.2055e-01\n",
      "  1.01     1.2029e-01\n",
      "  1.02     1.2005e-01\n",
      "  1.03     1.1983e-01\n",
      "  1.04     1.1965e-01\n",
      "  1.05     1.1956e-01\n",
      "  1.06     1.1951e-01\n",
      "  1.07     1.1953e-01\n",
      "  1.08     1.1962e-01\n",
      "  1.09     1.1976e-01\n",
      "  1.10     1.1993e-01\n"
     ]
    },
    {
     "data": {
      "text/plain": [
       "Text(0.5, 1.0, 'AWI-VPM objective, alpha=10^-2, precond=1')"
      ]
     },
     "execution_count": 24,
     "metadata": {},
     "output_type": "execute_result"
    },
    {
     "data": {
      "image/png": "[encoded data removed]",
      "text/plain": [
       "<Figure size 432x288 with 1 Axes>"
      ]
     },
     "metadata": {
      "needs_background": "light"
     },
     "output_type": "display_data"
    }
   ],
   "source": [
    "# construct CG solver for internal AWI use\n",
    "sol3 = vcalg.cgne(kmax=40, eps=0.001, rho=0.001, verbose=0)\n",
    "sep3 = awi.awisep(dom, rng, F, alpha=1.0e-2, awisol=sol3, observed=d[0])\n",
    "tval3=[]\n",
    "jval3=[]\n",
    "print('  t         j')\n",
    "for i in range(21):\n",
    "    tval3.append(0.9 + float(i)/100.0)\n",
    "    mt.copy(m)\n",
    "    mt.linComb(1.0-tval3[i],m0,tval3[i])\n",
    "    j = vpm.vpmjet(mt, sep3, d, sol)\n",
    "    jval3.append(j.value())\n",
    "    print('%6.2f     %10.4e' % (tval3[i], jval3[i]))\n",
    "    \n",
    "import matplotlib.pyplot as plt\n",
    "plt.plot(tval3, jval3)\n",
    "plt.xlabel('t: m = (1-t)*m0 + t*mstar')\n",
    "plt.ylabel('J_AWI(m)')\n",
    "plt.title('AWI-VPM objective, alpha=10^-2, precond=1', fontsize=16)"
   ]
  },
  {
   "cell_type": "code",
   "execution_count": 25,
   "metadata": {},
   "outputs": [
    {
     "name": "stdout",
     "output_type": "stream",
     "text": [
      "  t         j\n",
      "  0.00     7.9251e-02\n",
      "  0.10     7.6175e-02\n",
      "  0.20     7.2926e-02\n",
      "  0.30     6.9248e-02\n",
      "  0.40     6.5434e-02\n",
      "  0.50     6.1634e-02\n",
      "  0.60     5.7005e-02\n",
      "  0.70     5.1904e-02\n",
      "  0.80     4.5491e-02\n",
      "  0.90     3.8701e-02\n",
      "  1.00     3.3855e-02\n"
     ]
    },
    {
     "data": {
      "text/plain": [
       "Text(0.5, 1.0, 'AWI-VPM objective, alpha=10^-3, precond=1')"
      ]
     },
     "execution_count": 25,
     "metadata": {},
     "output_type": "execute_result"
    },
    {
     "data": {
      "image/png": "[encoded data removed]",
      "text/plain": [
       "<Figure size 432x288 with 1 Axes>"
      ]
     },
     "metadata": {
      "needs_background": "light"
     },
     "output_type": "display_data"
    }
   ],
   "source": [
    "# construct awisep, precond=1\n",
    "sep1 = awi.awisep(dom, rng, F, alpha=1.0e-3, awisol=sol, observed=d[0])\n",
    "\n",
    "jval4 = []\n",
    "\n",
    "print('  t         j')\n",
    "for i in range(11):\n",
    "    t = float(i)/10.0\n",
    "    mt.copy(m)\n",
    "    mt.linComb(1.0-t,m0,t)\n",
    "    j = vpm.vpmjet(mt, sep1, d, sol)\n",
    "    jval4.append(j.value())\n",
    "    print('%6.2f     %10.4e' % (tval[i], jval4[i]))\n",
    "    \n",
    "import matplotlib.pyplot as plt\n",
    "plt.plot(tval, jval4)\n",
    "plt.xlabel('t: m = (1-t)*m0 + t*mstar')\n",
    "plt.ylabel('J_AWI(m)')\n",
    "plt.title('AWI-VPM objective, alpha=10^-3, precond=1', fontsize=16)"
   ]
  },
  {
   "cell_type": "code",
   "execution_count": 26,
   "metadata": {},
   "outputs": [
    {
     "name": "stdout",
     "output_type": "stream",
     "text": [
      "  t         j\n",
      "  0.00     1.1202e-02\n",
      "  0.10     9.9203e-03\n",
      "  0.20     8.6740e-03\n",
      "  0.30     7.4618e-03\n",
      "  0.40     6.2887e-03\n",
      "  0.50     5.1856e-03\n",
      "  0.60     4.1764e-03\n",
      "  0.70     3.2798e-03\n",
      "  0.80     2.5435e-03\n",
      "  0.90     1.9896e-03\n",
      "  1.00     1.6904e-03\n"
     ]
    },
    {
     "data": {
      "text/plain": [
       "Text(0.5, 1.0, 'AWI-VPM objective, alpha=2 x 10^-4, precond=1')"
      ]
     },
     "execution_count": 26,
     "metadata": {},
     "output_type": "execute_result"
    },
    {
     "data": {
      "image/png": "[encoded data removed]",
      "text/plain": [
       "<Figure size 432x288 with 1 Axes>"
      ]
     },
     "metadata": {
      "needs_background": "light"
     },
     "output_type": "display_data"
    }
   ],
   "source": [
    "# construct awisep, precond=1\n",
    "sol4 = vcalg.cgne(kmax=200, eps=0.000001, rho=0.000001, verbose=0)\n",
    "sep1 = awi.awisep(dom, rng, F, alpha=2.0e-4, awisol=sol4, observed=d[0])\n",
    "\n",
    "jval2 = []\n",
    "\n",
    "print('  t         j')\n",
    "for i in range(11):\n",
    "    t = float(i)/10.0\n",
    "    mt.copy(m)\n",
    "    mt.linComb(1.0-t,m0,t)\n",
    "    j = vpm.vpmjet(mt, sep1, d, sol4)\n",
    "    jval2.append(j.value())\n",
    "    print('%6.2f     %10.4e' % (tval[i], jval2[i]))\n",
    "    \n",
    "import matplotlib.pyplot as plt\n",
    "plt.plot(tval, jval2)\n",
    "plt.xlabel('t: m = (1-t)*m0 + t*mstar')\n",
    "plt.ylabel('J_AWI(m)')\n",
    "plt.title('AWI-VPM objective, alpha=2 x 10^-4, precond=1', fontsize=16)"
   ]
  },
  {
   "cell_type": "code",
   "execution_count": 33,
   "metadata": {},
   "outputs": [
    {
     "name": "stdout",
     "output_type": "stream",
     "text": [
      "  t         j\n",
      "  0.00     8.7779e-04\n",
      "  0.10     7.4721e-04\n",
      "  0.20     6.2460e-04\n",
      "  0.30     5.0999e-04\n",
      "  0.40     4.0394e-04\n",
      "  0.50     3.0852e-04\n",
      "  0.60     2.2556e-04\n",
      "  0.70     1.5497e-04\n",
      "  0.80     9.8469e-05\n",
      "  0.90     5.7888e-05\n",
      "  1.00     3.4488e-05\n"
     ]
    },
    {
     "data": {
      "text/plain": [
       "Text(0.5, 1.0, 'AWI-VPM objective, alpha=5 x 10^-5, precond=1')"
      ]
     },
     "execution_count": 33,
     "metadata": {},
     "output_type": "execute_result"
    },
    {
     "data": {
      "image/png": "[encoded data removed]",
      "text/plain": [
       "<Figure size 432x288 with 1 Axes>"
      ]
     },
     "metadata": {
      "needs_background": "light"
     },
     "output_type": "display_data"
    }
   ],
   "source": [
    "sep1 = awi.awisep(dom, rng, F, alpha=5.0e-5, awisol=sol4, observed=d[0])\n",
    "\n",
    "jval05 = []\n",
    "\n",
    "print('  t         j')\n",
    "for i in range(11):\n",
    "    t = float(i)/10.0\n",
    "    mt.copy(m)\n",
    "    mt.linComb(1.0-t,m0,t)\n",
    "    j = vpm.vpmjet(mt, sep1, d, sol4)\n",
    "    jval05.append(j.value())\n",
    "    print('%6.2f     %10.4e' % (tval[i], jval05[i]))\n",
    "    \n",
    "import matplotlib.pyplot as plt\n",
    "plt.plot(tval, jval05)\n",
    "plt.xlabel('t: m = (1-t)*m0 + t*mstar')\n",
    "plt.ylabel('J_AWI(m)')\n",
    "plt.title('AWI-VPM objective, alpha=5 x 10^-5, precond=1', fontsize=16)"
   ]
  },
  {
   "cell_type": "code",
   "execution_count": 30,
   "metadata": {},
   "outputs": [
    {
     "name": "stdout",
     "output_type": "stream",
     "text": [
      "  t         j\n",
      "  0.00     2.3845e-04\n",
      "  0.10     2.0252e-04\n",
      "  0.20     1.6911e-04\n",
      "  0.30     1.3821e-04\n",
      "  0.40     1.0982e-04\n",
      "  0.50     8.4508e-05\n",
      "  0.60     6.2540e-05\n",
      "  0.70     4.4077e-05\n",
      "  0.80     2.9449e-05\n",
      "  0.90     1.9165e-05\n",
      "  1.00     1.3483e-05\n"
     ]
    },
    {
     "data": {
      "text/plain": [
       "Text(0.5, 1.0, 'AWI-VPM objective, alpha=2.5 x 10^-5, precond=1')"
      ]
     },
     "execution_count": 30,
     "metadata": {},
     "output_type": "execute_result"
    },
    {
     "data": {
      "image/png": "[encoded data removed]",
      "text/plain": [
       "<Figure size 432x288 with 1 Axes>"
      ]
     },
     "metadata": {
      "needs_background": "light"
     },
     "output_type": "display_data"
    }
   ],
   "source": [
    "sep1 = awi.awisep(dom, rng, F, alpha=2.5e-5, awisol=sol4, observed=d[0])\n",
    "\n",
    "jval025 = []\n",
    "\n",
    "print('  t         j')\n",
    "for i in range(11):\n",
    "    t = float(i)/10.0\n",
    "    mt.copy(m)\n",
    "    mt.linComb(1.0-t,m0,t)\n",
    "    j = vpm.vpmjet(mt, sep1, d, sol4)\n",
    "    jval025.append(j.value())\n",
    "    print('%6.2f     %10.4e' % (tval[i], jval025[i]))\n",
    "    \n",
    "import matplotlib.pyplot as plt\n",
    "plt.plot(tval, jval025)\n",
    "plt.xlabel('t: m = (1-t)*m0 + t*mstar')\n",
    "plt.ylabel('J_AWI(m)')\n",
    "plt.title('AWI-VPM objective, alpha=2.5 x 10^-5, precond=1', fontsize=16)"
   ]
  },
  {
   "cell_type": "code",
   "execution_count": 40,
   "metadata": {},
   "outputs": [
    {
     "name": "stdout",
     "output_type": "stream",
     "text": [
      "  0.00     2.8005e+04     3.1107e+04     3.5112e+04     3.8153e+04\n",
      "  0.10     2.4801e+04     2.6675e+04     2.9888e+04     3.2403e+04\n",
      "  0.20     2.1685e+04     2.2464e+04     2.4984e+04     2.7058e+04\n",
      "  0.30     1.8654e+04     1.8477e+04     2.0400e+04     2.2114e+04\n",
      "  0.40     1.5722e+04     1.4736e+04     1.6158e+04     1.7572e+04\n",
      "  0.50     1.2964e+04     1.1320e+04     1.2341e+04     1.3521e+04\n",
      "  0.60     1.0441e+04     8.2848e+03     9.0223e+03     1.0006e+04\n",
      "  0.70     8.1994e+03     5.6566e+03     6.1989e+03     7.0523e+03\n",
      "  0.80     6.3588e+03     3.5077e+03     3.9388e+03     4.7118e+03\n",
      "  0.90     4.9739e+03     1.9427e+03     2.3155e+03     3.0664e+03\n",
      "  1.00     4.2259e+03     1.0306e+03     1.3795e+03     2.1574e+03\n"
     ]
    }
   ],
   "source": [
    "tval=[]\n",
    "for i in range(11):\n",
    "#    print('2 ' + str(jval2[i]))\n",
    "#    print('1 ' + str(jval1[i]))\n",
    "#    print('05 ' + str(jval05[i]))\n",
    "#    print('025 ' + str(jval025[i]))\n",
    "#    print('t ' + str(tval[i]))\n",
    "    tval.append(i*0.1)\n",
    "    \n",
    "for i in range(11):\n",
    "    print('%6.2f     %10.4e     %10.4e     %10.4e     %10.4e' % (tval[i], 2.5*10.e5*jval2[i], 10.e6*jval1[i], 4*10.e6*jval05[i], 1.6*10.e7*jval025[i]))"
   ]
  },
  {
   "cell_type": "code",
   "execution_count": null,
   "metadata": {},
   "outputs": [],
   "source": []
  }
 ],
 "metadata": {
  "kernelspec": {
   "display_name": "Python 3",
   "language": "python",
   "name": "python3"
  },
  "language_info": {
   "codemirror_mode": {
    "name": "ipython",
    "version": 3
   },
   "file_extension": ".py",
   "mimetype": "text/x-python",
   "name": "python",
   "nbconvert_exporter": "python",
   "pygments_lexer": "ipython3",
   "version": "3.8.3"
  }
 },
 "nbformat": 4,
 "nbformat_minor": 4
}
