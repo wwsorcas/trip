{
 "cells": [
  {
   "cell_type": "markdown",
   "metadata": {},
   "source": [
    "# Python Classes for Vector Calculus\n",
    "\n",
    "This notebook overviews a Python library based on \"Object structure of vector calculus\", hereinafter *VC*. The central thrust of VC is that a mimetic approach to vector calculus, with computation imitating mathematics as closely as possible, is necessarily object-oriented. The essential objects are also structurally constrained.\n",
    "\n",
    "The core mathematical types of vector calculus are normed vector spaces, vectors, linear operators or maps, and differentiable functions. My particular objective is mimetic expression of continuous optimization algorithms, which generally presume an inner product, so norms are assumed here to be inner product norms. This notebook reviews a Python realization of the structure explained in VC, with a few simple examples based on NumPy. \n",
    "\n",
    "## Spaces and Vectors\n",
    "\n",
    "As explained in VC, (pre-Hilbert) vector spaces combine a set of data objects with two operations on them, linear combination and inner (dot) product. The set of data objects has infinite cardinality except in one obvious instance, so is not computationally realizable. However it is sufficient to be able to determine whether an object is a member of the set, and to obtain a new object in the set on request (\"let $v \\in V$\"). These observations translate into four pseudo-code attributes of a Space object:\n",
    "1. a boolean function that takes an object argument and returns True if the argument refers to a data object for this space;\n",
    "2. a function with no arguments that returns a new data object;\n",
    "3. a linear combination function that evaluates $y=ax + by$, with arguments $a$, $b$ (scalars), $x$, and $y$ (data objects). Error if either $x$ or $y$ is not a valid data object;\n",
    "4. an inner product function that returns a scalar $\\langle x, y \\rangle$ for arguments $x$ and $y$. Error if either $x$ or $y$ is not a data object.\n",
    "\n",
    "All Spaces have these attributes, so the collection of Spaces is naturally expressed as an abstract class. In Python,"
   ]
  },
  {
   "cell_type": "code",
   "execution_count": 1,
   "metadata": {},
   "outputs": [],
   "source": [
    "from abc import ABC, abstractmethod\n",
    "\n",
    "class Space(ABC):\n",
    "    @abstractmethod\n",
    "    def isData(self,x):\n",
    "        pass\n",
    "    @abstractmethod\n",
    "    def getData(self):\n",
    "        pass\n",
    "    @abstractmethod\n",
    "    def linComb(self, a, x, y, b=1.0):\n",
    "        pass\n",
    "    @abstractmethod    \n",
    "    def dot(self,x,y):\n",
    "        pass\n",
    "    ..."
   ]
  },
  {
   "cell_type": "markdown",
   "metadata": {},
   "source": [
    "The *Space* class declaration in *vcl.py* includes several other convenient methods, including a self-description interface and a *cleanup* method to remove any part of a data object that Python garbage collection does not automatically remove.\n",
    "\n",
    "While vector space is an abstract concept, emulated in code by an abstract type, the definition of vector is entirely concrete: it is a data object (a member of $V$, in the notation of the paper) *together with* with a vector space and its attributes. The almost-universal mathematical vernacular calls the data objects \"vectors\" As explained in VC, this is logically incorrect, but also misleading: data objects must be combined with the other attributes of their vector space to act functionally as vectors. So a vector is not a data object alone, but a composite of a data object *together with* a vector space with its linear combination and inner product functions, for which the data object belongs to its proper set of data objects.\n",
    "\n",
    "While *vcl.Space* is an abstract type, asserting behaviour but not implementing it, every aspect of vector behaviour is determined by attributes of the corresponding space. So the Python realization *vcl.Vector* is a concrete, rather than abstract, class - its attributes are defined, not merely declared:\n"
   ]
  },
  {
   "cell_type": "code",
   "execution_count": 2,
   "metadata": {},
   "outputs": [],
   "source": [
    "class Vector:\n",
    "\n",
    "    def __init__(self, sp):\n",
    "        self.space = sp\n",
    "        self.data = sp.getData()\n",
    "\n",
    "    def __del__(self):\n",
    "        self.space.cleanup(self.data)\n",
    "            \n",
    "    def linComb(self,a,x,b=1.0):\n",
    "        self.space.linComb(a,x.data,self.data,b)\n",
    "\n",
    "    def dot(self,x):\n",
    "        return self.space.dot(self.data,x.data)\n",
    "    ..."
   ]
  },
  {
   "cell_type": "markdown",
   "metadata": {},
   "source": [
    "The full definition in *vcl.py* includes a mechanism for assigning a *Vector* to an existing data object, rather than the new data object assigned to it on construction. This possibility is convenient in applications. Several other convenience attributes are also provided.\n",
    "\n",
    "For a simple example, I will construct a vector space based on NumPy. This choice makes a point: NumPy is already a fine environment for matrix algebra. However it does not offer interfaces for functions on subsets of vector spaces, nor for expression of algorithms defined in terms of vector functions, such as Newton's method. NumPy's array manipulation capabilities support straightforward construction of a vector space type, in the form of a *Space* as defined (partly) above. The key choice is to us NumPy *ndarrays* as the data objects. Each space corresponds mathematically to ${\\bf R}^n$, so is characterized by its dimension. So an object is a data object of an *npSpace* if it is an column *numpy.ndarray* of the right dimension. "
   ]
  },
  {
   "cell_type": "code",
   "execution_count": 3,
   "metadata": {},
   "outputs": [],
   "source": [
    "import vcl\n",
    "import numpy as np\n",
    "\n",
    "# numpy vector space\n",
    "class npSpace(vcl.Space):\n",
    "    def __init__(self,n):\n",
    "        self.dim = n\n",
    "    def getData(self):\n",
    "        return np.zeros(self.dim).reshape(self.dim,1)\n",
    "    def isData(self,x):\n",
    "        return (isinstance(x,np.ndarray) and x.shape() == (self.dim,1))\n",
    "    def linComb(self,a,x,y,b=1.0):\n",
    "        y = a*x + b*y\n",
    "    def dot(self,x,y):\n",
    "        return np.dot(x.T,y)[0][0]"
   ]
  },
  {
   "cell_type": "markdown",
   "metadata": {},
   "source": [
    "*npSpace* is a sub- (or derived) class of *Space*, as indicated by the first line in the definition. So it can be used in any context that calls for a *Space*.\n",
    "\n",
    "The full definition in *npvc.py* includes several other useful functions, that are (or could be) defined in terms of the core functions described above. The *lincomb* and *dot* functions (along with the others) are also written to provide error messages on failure.\n",
    "\n",
    "Here is a very simple use of the *npSpace* and *Vector* classes:"
   ]
  },
  {
   "cell_type": "code",
   "execution_count": 11,
   "metadata": {},
   "outputs": [
    {
     "name": "stdout",
     "output_type": "stream",
     "text": [
      "A vector in 2D NumPy-based Space:\n",
      "Vector in space:\n",
      "npvc.Space of dimension 2\n",
      "Data object:\n",
      "numpy data:\n",
      "[[1.]\n",
      " [1.]]\n"
     ]
    }
   ],
   "source": [
    "import numpy as np\n",
    "import vcl\n",
    "import npvc\n",
    "\n",
    "dom = npvc.Space(2)\n",
    "x=vcl.Vector(dom)\n",
    "x.data[0]=1\n",
    "x.data[1]=1\n",
    "print('A vector in 2D NumPy-based Space:')\n",
    "x.myNameIs()"
   ]
  },
  {
   "cell_type": "markdown",
   "metadata": {},
   "source": [
    "This example, simple as it is, makes another important point. There are NumPy *Space*s (namely *npSpace*s), but there is no NumPy *Vector*: there are only *Vector*s in *npSpace*s. The vector concept does not need to be specialized: it is a \"function\" of the choice of space, and is otherwise completely defined.\n",
    "\n",
    "## Linear Operators\n",
    "\n",
    "The third fundamental concept of linear algebra, after vector space and vector, is that of linear map or operator. These are simply functions whose domains and ranges are vector spaces, and which satisfy the linearity condition. Since the vector spaces at issue are presumed to be inner product spaces, linear operators really come in adjoint pairs. A suitable Python abstract class defining the behaviour of linear operators is"
   ]
  },
  {
   "cell_type": "code",
   "execution_count": 5,
   "metadata": {},
   "outputs": [],
   "source": [
    "class LinearOperator:\n",
    "    @abstractmethod\n",
    "    def getDomain(self):\n",
    "        pass\n",
    "    @abstractmethod\n",
    "    def getRange(self):\n",
    "        pass\n",
    "    @abstractmethod\n",
    "    def applyFwd(self,x, y):\n",
    "        pass\n",
    "    @abstractmethod\n",
    "    def applyAdj(self,x, y):\n",
    "        pass        \n",
    "    @abstractmethod\n",
    "    def myNameIs(self):\n",
    "        pass"
   ]
  },
  {
   "cell_type": "markdown",
   "metadata": {},
   "source": [
    "Besides being a logical imperative, enabling the *LinearOperator* instance to return references to its domain and range is actually useful in the formulation of algorithms, as will be seen below.\n",
    "\n",
    "The obvious linear operator class for *npSpace* performs matrix-vector multiplication:"
   ]
  },
  {
   "cell_type": "code",
   "execution_count": 6,
   "metadata": {},
   "outputs": [],
   "source": [
    "class MatrixOperator(vcl.LinearOperator):    \n",
    "    def __init__(self,dom,rng,mat):\n",
    "        self.dom = dom\n",
    "        self.rng = rng\n",
    "        self.mat = np.copy(mat)\n",
    "        #....    \n",
    "    def applyFwd(self,x, y):\n",
    "        y.data = self.mat@x.data\n",
    "    def applyAdj(self,x, y):\n",
    "        y.data = self.mat.T@x.data"
   ]
  },
  {
   "cell_type": "markdown",
   "metadata": {},
   "source": [
    "The elided code in the constructor checks that the *npSpaces* *dom* and *rng* have the number of columns of the *numpy.ndarray*, respectively its number of rows, as their dimensions. \n",
    "\n",
    "Note that the domain and range *Space*s are passed as arguments, therefore stored as references to external objects that exist independently of the *MatrixOperator*, whereas the matrix argument is copied, internal to the object. This construction requires the error-checking just mentioned, but has several advantages. Obviously the domain and range spaces could also be copied, but that would be logically incorrect as well as inconvenient. With the *MatrixOperator* storing references to externally defined spaces, membership in those spaces can be verified by simple comparison: to know that a *vcl.Vector* x is a member of the domain, for example, simply check the value of *x.space==self.dom*. It is not enough to check that the input vector and the domain have the same dimension. For example, subclasses of *npvc.Space* could be equipped with units, whence only checking equality of dimensions could lead to dimensional errors. Insisting that the spaces involved should be *the same objects* avoids such egregious errors.\n",
    "\n",
    "The matrix, on the other hand, is naturally internal data. This construction maintains the identity of the *MatrixOperator* even if the NumPy array passed to the constructor is subsequently changed.\n",
    "\n",
    "Here is a simple example of matrix multiplication via the *npvc.MatrixOperator* class. The textual overhead from expressing matrix multiplication as the action of a linear operator (as compared to straight NumPy) is: 3 lines of code, out of 15."
   ]
  },
  {
   "cell_type": "code",
   "execution_count": 7,
   "metadata": {},
   "outputs": [
    {
     "name": "stdout",
     "output_type": "stream",
     "text": [
      "Input vector x\n",
      "Vector in space:\n",
      "npvc.Space of dimension 2\n",
      "Data object:\n",
      "numpy data:\n",
      "[[1.]\n",
      " [1.]]\n",
      "Matrix Operator matop\n",
      "NUMPY Matrix Operator with matrix:\n",
      "[[1. 1.]\n",
      " [0. 1.]\n",
      " [0. 0.]]\n",
      "domain:\n",
      "npvc.Space of dimension 2\n",
      "range:\n",
      "npvc.Space of dimension 3\n",
      "Output vector y = matop(x)\n",
      "Vector in space:\n",
      "npvc.Space of dimension 3\n",
      "Data object:\n",
      "numpy data:\n",
      "[[2.]\n",
      " [1.]\n",
      " [0.]]\n"
     ]
    }
   ],
   "source": [
    "import numpy as np\n",
    "import vcl\n",
    "import npvc\n",
    "\n",
    "# domain space and vector in it\n",
    "dom = npvc.Space(2)\n",
    "x=vcl.Vector(dom)\n",
    "x.data[0]=1\n",
    "x.data[1]=1\n",
    "\n",
    "# range space and vector in it\n",
    "rng = npvc.Space(3)\n",
    "y=vcl.Vector(rng)\n",
    "\n",
    "# 3 x 2 matrix - initialize as outer product\n",
    "#mat=y.data@x.data.T\n",
    "mat=np.zeros((3,2))\n",
    "mat[0,0]=1\n",
    "mat[0,1]=1\n",
    "mat[1,1]=1\n",
    "\n",
    "# matrix operator based on mat\n",
    "matop=npvc.MatrixOperator(dom,rng,mat)\n",
    "\n",
    "# matrix-vector product as matrix operator \n",
    "# application\n",
    "matop.applyFwd(x,y)\n",
    "\n",
    "print('Input vector x')\n",
    "x.myNameIs()\n",
    "print('Matrix Operator matop')\n",
    "matop.myNameIs()\n",
    "print('Output vector y = matop(x)')\n",
    "y.myNameIs()"
   ]
  },
  {
   "cell_type": "markdown",
   "metadata": {},
   "source": [
    "# Functions\n",
    "\n",
    "Having constructed a class for linear operators (i.e. linear functions), it's obvious how to build a class for (possibly) non-linear functions. First, absent linearity there is no natural adjoint concept, so there is only a \"forward\" application function. Second, for differentiable functions a derivative (a linear operator) is another attribute. \n",
    "\n",
    "These considerations suggest a very simple abstract interface:"
   ]
  },
  {
   "cell_type": "code",
   "execution_count": 8,
   "metadata": {},
   "outputs": [],
   "source": [
    "class Function(ABC):\n",
    "    @abstractmethod\n",
    "    def getDomain(self):\n",
    "        pass\n",
    "    @abstractmethod\n",
    "    def getRange(self):\n",
    "        pass\n",
    "    @abstractmethod\n",
    "    def apply(self,x,y):\n",
    "        pass\n",
    "    # should return linear op\n",
    "    @abstractmethod\n",
    "    def deriv(self,x):\n",
    "        pass\n",
    "    @abstractmethod\n",
    "    def myNameIs(self):\n",
    "        pass"
   ]
  },
  {
   "cell_type": "markdown",
   "metadata": {},
   "source": [
    "A simple NumPy-based example is provided as *npvc.OpExpl1*. It realizes the function $f: {\\bf R}^2 \\rightarrow {\\bf R}^3$ given by \n",
    "$$\n",
    "f((x_0,x_1)^T) = (x_0*x_1, -x_1+x_0^2, x_1^2)^T.\n",
    "$$\n",
    "Its code is written according the principles outlined above. For instance, the domain and range spaces are constructed externally to the function object, and passed to its constructor as arguments. Their dimensions are checked to be 2 and 3 respectively. The function object stores references to these externally defined spaces. The *apply* and *deriv* methods sanity-check their arguments. See the code for details."
   ]
  },
  {
   "cell_type": "code",
   "execution_count": 9,
   "metadata": {},
   "outputs": [
    {
     "name": "stdout",
     "output_type": "stream",
     "text": [
      "input vector:\n",
      "Vector in space:\n",
      "npvc.Space of dimension 2\n",
      "Data object:\n",
      "numpy data:\n",
      "[[ 1.]\n",
      " [-2.]]\n",
      "output of apply method:\n",
      "Vector in space:\n",
      "npvc.Space of dimension 3\n",
      "Data object:\n",
      "numpy data:\n",
      "[[-2.]\n",
      " [ 3.]\n",
      " [ 4.]]\n",
      "output of deriv method:\n",
      "NUMPY Matrix Operator with matrix:\n",
      "[[-2.  1.]\n",
      " [ 2. -1.]\n",
      " [ 0. -4.]]\n",
      "domain:\n",
      "npvc.Space of dimension 2\n",
      "range:\n",
      "npvc.Space of dimension 3\n"
     ]
    }
   ],
   "source": [
    "dom = npvc.Space(2)\n",
    "rng = npvc.Space(3)\n",
    "f = npvc.OpExpl1(dom,rng)\n",
    "x = vcl.Vector(dom)\n",
    "y = vcl.Vector(rng)\n",
    "x.data[0]=1\n",
    "x.data[1]=-2\n",
    "print('input vector:')\n",
    "x.myNameIs()\n",
    "f.apply(x,y)\n",
    "print('output of apply method:')\n",
    "y.myNameIs()\n",
    "dfx = f.deriv(x)\n",
    "print('output of deriv method:')\n",
    "dfx.myNameIs()"
   ]
  },
  {
   "cell_type": "markdown",
   "metadata": {},
   "source": [
    "Of course linear functions (operators) are also functions, so really *LinearOperator* should subclass *Function*. The derivative is a linear operator, so the definition of *Function* might seem to depend of the definition of *LinearOperator* which in turn depends on *Function*. However it is possible to take advanage of Python's genericity to break this cyclic dependence: the return type of the *Function.deriv* method isn't specified, because return types are not specified in Python! So re-write the definition of *LinearOperator* as follows:"
   ]
  },
  {
   "cell_type": "code",
   "execution_count": 12,
   "metadata": {},
   "outputs": [],
   "source": [
    "class LinearOperator(Function):\n",
    "    def apply(self,x, y):\n",
    "        self.applyFwd(x,y)\n",
    "    def deriv(self,x):\n",
    "        return self\n",
    "    @abstractmethod\n",
    "    def applyFwd(self,x, y):\n",
    "        pass\n",
    "    @abstractmethod\n",
    "    def applyAdj(self,x, y):\n",
    "        pass "
   ]
  },
  {
   "cell_type": "markdown",
   "metadata": {},
   "source": [
    "That is, *LinearOperator* is *Function* with two abstract methods made concrete (defined), two abstract methods added, and the others inherited. Of course the *deriv* method returns *self*, since a linear operator is its own derivative."
   ]
  },
  {
   "cell_type": "markdown",
   "metadata": {},
   "source": [
    "## Jets\n",
    "\n",
    "The *jet* concept solves an obvious consistency vs. efficiency problem involving the attributes of functions. Suppose that *f* is a *vcl,Function*, and *x* is a *vcl.Vector*. Record the function's value in the *vcl.Vector* *y*, and the derivative in the *vcl.LinearOperator* *df*. Some number of lines later in the program, access these same objects. Is there any guarantee that they are still related in the same way? In fact, there is not. If *x* is changed but the function is not re-evaluated, then the three objects have become inconsistent. The only way to make sure that this inconsistency does not occur appears to be re-computing the value and derivative each time they are accessed. That could amount to considerable wasted computational effort.\n",
    "\n",
    "Jets, in the sense meant here, borrow a concept from differential geometry, and offer a way around this problem. There are several equivalent definitions, of which I cite the one most relevant to computation. The $k$-jet of a $C^{\\infty}$ function $f$ at a point $x$ in its domain is the sequence of values $D^{\\alpha}f(x)$ of $f$ and all of its derivatives of orders $|\\alpha| \\le k$. This definition suggests an obvious container class, implemented in $vcl.Jet$. For the time being, I have implemented only the 1-jet. The constructor arguments are the *vcl.Function* *f* and *vcl.Vector* *x*. The methods *getPoint*, *getValue*, and *getDeriv* return the computational analogues of $x$, $f(x)$, and $Df(x)$ respectively. These are stored as internal copies, so changing *x* after creation of *vcl.Jet(f,x)* does not change the return values of these methods. Thus an instance of *vcl.Jet* provides access to a consistent set of values.\n",
    "\n",
    "An earlier implementation of this concept in the C++ library RVL used access control and the *const* keyword to prevent any violation of the jet's internal data, so really offered a guarantee that the return values of its methods are coherent. Such guarantees are impossible to provide in Python, which does not implement *const* and makes all class data public. So *vcl.Jet* really only provides guidance to help the programmer maintain the coherence of function values. Vector data is also private in RVL, and can only be altered through the action of a few specified function classes. This restriction makes a *versioning* system possible. The jet methods compare the version index of a vector with a recorded index to tell whether the vector had been altered, thus update values and derivatives automatically whenever necessary. So RVL implements the jet concept as *f(x) for variable x*. Such automation is impossible in a Python framework: the VCL user is responsible for updating *vcl.Jet* instances as needed. "
   ]
  },
  {
   "cell_type": "markdown",
   "metadata": {},
   "source": [
    "## Scalar Functions"
   ]
  },
  {
   "cell_type": "markdown",
   "metadata": {},
   "source": [
    "## Product Spaces and Partial Derivatives"
   ]
  },
  {
   "cell_type": "markdown",
   "metadata": {},
   "source": [
    "## Variable Projection\n",
    "\n",
    "Variable projection is a minimization algorithm for a function of two (vector) variables $f(x_1,x_2)$, of class $C^2$. Suppose that for each $x_1$, $\\tilde{x}_2(x_1)$ is a local minimizer of $x_2 \\rightarrow f(x_1,x_2)$, and that $\\tilde{x}_2$ is of class $C^1$. This is the case if, for example, the Hessian $D_2^2 f(x_1,\\tilde{x}_2 (x_1))$ is positive definite symmetric. Define $\\tilde{f}(x_1)=f(x_1,\\tilde{x}_2 (x_1))$. It follows directly from the chain rule that if $x_1$ is a stationary point of $\\tilde{f}$, then $(x_1,\\tilde{x}_2(x_1))$ is a stationary point of $f$."
   ]
  },
  {
   "cell_type": "markdown",
   "metadata": {},
   "source": [
    "## Algorithms\n"
   ]
  }
 ],
 "metadata": {
  "kernelspec": {
   "display_name": "Python 3",
   "language": "python",
   "name": "python3"
  },
  "language_info": {
   "codemirror_mode": {
    "name": "ipython",
    "version": 3
   },
   "file_extension": ".py",
   "mimetype": "text/x-python",
   "name": "python",
   "nbconvert_exporter": "python",
   "pygments_lexer": "ipython3",
   "version": "3.8.3"
  }
 },
 "nbformat": 4,
 "nbformat_minor": 4
}
